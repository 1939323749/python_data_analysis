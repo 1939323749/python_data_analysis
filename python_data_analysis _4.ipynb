{
 "cells": [
  {
   "cell_type": "code",
   "execution_count": 1,
   "metadata": {},
   "outputs": [
    {
     "data": {
      "text/plain": [
       "array([     0,      1,      2, ..., 999997, 999998, 999999])"
      ]
     },
     "execution_count": 1,
     "metadata": {},
     "output_type": "execute_result"
    }
   ],
   "source": [
    "import numpy as np\n",
    "my_arr = np.arange(1000000)\n",
    "my_arr"
   ]
  },
  {
   "cell_type": "code",
   "execution_count": 2,
   "metadata": {},
   "outputs": [
    {
     "data": {
      "text/plain": [
       "[0,\n",
       " 1,\n",
       " 2,\n",
       " 3,\n",
       " 4,\n",
       " 5,\n",
       " 6,\n",
       " 7,\n",
       " 8,\n",
       " 9,\n",
       " 10,\n",
       " 11,\n",
       " 12,\n",
       " 13,\n",
       " 14,\n",
       " 15,\n",
       " 16,\n",
       " 17,\n",
       " 18,\n",
       " 19,\n",
       " 20,\n",
       " 21,\n",
       " 22,\n",
       " 23,\n",
       " 24,\n",
       " 25,\n",
       " 26,\n",
       " 27,\n",
       " 28,\n",
       " 29,\n",
       " 30,\n",
       " 31,\n",
       " 32,\n",
       " 33,\n",
       " 34,\n",
       " 35,\n",
       " 36,\n",
       " 37,\n",
       " 38,\n",
       " 39,\n",
       " 40,\n",
       " 41,\n",
       " 42,\n",
       " 43,\n",
       " 44,\n",
       " 45,\n",
       " 46,\n",
       " 47,\n",
       " 48,\n",
       " 49,\n",
       " 50,\n",
       " 51,\n",
       " 52,\n",
       " 53,\n",
       " 54,\n",
       " 55,\n",
       " 56,\n",
       " 57,\n",
       " 58,\n",
       " 59,\n",
       " 60,\n",
       " 61,\n",
       " 62,\n",
       " 63,\n",
       " 64,\n",
       " 65,\n",
       " 66,\n",
       " 67,\n",
       " 68,\n",
       " 69,\n",
       " 70,\n",
       " 71,\n",
       " 72,\n",
       " 73,\n",
       " 74,\n",
       " 75,\n",
       " 76,\n",
       " 77,\n",
       " 78,\n",
       " 79,\n",
       " 80,\n",
       " 81,\n",
       " 82,\n",
       " 83,\n",
       " 84,\n",
       " 85,\n",
       " 86,\n",
       " 87,\n",
       " 88,\n",
       " 89,\n",
       " 90,\n",
       " 91,\n",
       " 92,\n",
       " 93,\n",
       " 94,\n",
       " 95,\n",
       " 96,\n",
       " 97,\n",
       " 98,\n",
       " 99,\n",
       " 100,\n",
       " 101,\n",
       " 102,\n",
       " 103,\n",
       " 104,\n",
       " 105,\n",
       " 106,\n",
       " 107,\n",
       " 108,\n",
       " 109,\n",
       " 110,\n",
       " 111,\n",
       " 112,\n",
       " 113,\n",
       " 114,\n",
       " 115,\n",
       " 116,\n",
       " 117,\n",
       " 118,\n",
       " 119,\n",
       " 120,\n",
       " 121,\n",
       " 122,\n",
       " 123,\n",
       " 124,\n",
       " 125,\n",
       " 126,\n",
       " 127,\n",
       " 128,\n",
       " 129,\n",
       " 130,\n",
       " 131,\n",
       " 132,\n",
       " 133,\n",
       " 134,\n",
       " 135,\n",
       " 136,\n",
       " 137,\n",
       " 138,\n",
       " 139,\n",
       " 140,\n",
       " 141,\n",
       " 142,\n",
       " 143,\n",
       " 144,\n",
       " 145,\n",
       " 146,\n",
       " 147,\n",
       " 148,\n",
       " 149,\n",
       " 150,\n",
       " 151,\n",
       " 152,\n",
       " 153,\n",
       " 154,\n",
       " 155,\n",
       " 156,\n",
       " 157,\n",
       " 158,\n",
       " 159,\n",
       " 160,\n",
       " 161,\n",
       " 162,\n",
       " 163,\n",
       " 164,\n",
       " 165,\n",
       " 166,\n",
       " 167,\n",
       " 168,\n",
       " 169,\n",
       " 170,\n",
       " 171,\n",
       " 172,\n",
       " 173,\n",
       " 174,\n",
       " 175,\n",
       " 176,\n",
       " 177,\n",
       " 178,\n",
       " 179,\n",
       " 180,\n",
       " 181,\n",
       " 182,\n",
       " 183,\n",
       " 184,\n",
       " 185,\n",
       " 186,\n",
       " 187,\n",
       " 188,\n",
       " 189,\n",
       " 190,\n",
       " 191,\n",
       " 192,\n",
       " 193,\n",
       " 194,\n",
       " 195,\n",
       " 196,\n",
       " 197,\n",
       " 198,\n",
       " 199,\n",
       " 200,\n",
       " 201,\n",
       " 202,\n",
       " 203,\n",
       " 204,\n",
       " 205,\n",
       " 206,\n",
       " 207,\n",
       " 208,\n",
       " 209,\n",
       " 210,\n",
       " 211,\n",
       " 212,\n",
       " 213,\n",
       " 214,\n",
       " 215,\n",
       " 216,\n",
       " 217,\n",
       " 218,\n",
       " 219,\n",
       " 220,\n",
       " 221,\n",
       " 222,\n",
       " 223,\n",
       " 224,\n",
       " 225,\n",
       " 226,\n",
       " 227,\n",
       " 228,\n",
       " 229,\n",
       " 230,\n",
       " 231,\n",
       " 232,\n",
       " 233,\n",
       " 234,\n",
       " 235,\n",
       " 236,\n",
       " 237,\n",
       " 238,\n",
       " 239,\n",
       " 240,\n",
       " 241,\n",
       " 242,\n",
       " 243,\n",
       " 244,\n",
       " 245,\n",
       " 246,\n",
       " 247,\n",
       " 248,\n",
       " 249,\n",
       " 250,\n",
       " 251,\n",
       " 252,\n",
       " 253,\n",
       " 254,\n",
       " 255,\n",
       " 256,\n",
       " 257,\n",
       " 258,\n",
       " 259,\n",
       " 260,\n",
       " 261,\n",
       " 262,\n",
       " 263,\n",
       " 264,\n",
       " 265,\n",
       " 266,\n",
       " 267,\n",
       " 268,\n",
       " 269,\n",
       " 270,\n",
       " 271,\n",
       " 272,\n",
       " 273,\n",
       " 274,\n",
       " 275,\n",
       " 276,\n",
       " 277,\n",
       " 278,\n",
       " 279,\n",
       " 280,\n",
       " 281,\n",
       " 282,\n",
       " 283,\n",
       " 284,\n",
       " 285,\n",
       " 286,\n",
       " 287,\n",
       " 288,\n",
       " 289,\n",
       " 290,\n",
       " 291,\n",
       " 292,\n",
       " 293,\n",
       " 294,\n",
       " 295,\n",
       " 296,\n",
       " 297,\n",
       " 298,\n",
       " 299,\n",
       " 300,\n",
       " 301,\n",
       " 302,\n",
       " 303,\n",
       " 304,\n",
       " 305,\n",
       " 306,\n",
       " 307,\n",
       " 308,\n",
       " 309,\n",
       " 310,\n",
       " 311,\n",
       " 312,\n",
       " 313,\n",
       " 314,\n",
       " 315,\n",
       " 316,\n",
       " 317,\n",
       " 318,\n",
       " 319,\n",
       " 320,\n",
       " 321,\n",
       " 322,\n",
       " 323,\n",
       " 324,\n",
       " 325,\n",
       " 326,\n",
       " 327,\n",
       " 328,\n",
       " 329,\n",
       " 330,\n",
       " 331,\n",
       " 332,\n",
       " 333,\n",
       " 334,\n",
       " 335,\n",
       " 336,\n",
       " 337,\n",
       " 338,\n",
       " 339,\n",
       " 340,\n",
       " 341,\n",
       " 342,\n",
       " 343,\n",
       " 344,\n",
       " 345,\n",
       " 346,\n",
       " 347,\n",
       " 348,\n",
       " 349,\n",
       " 350,\n",
       " 351,\n",
       " 352,\n",
       " 353,\n",
       " 354,\n",
       " 355,\n",
       " 356,\n",
       " 357,\n",
       " 358,\n",
       " 359,\n",
       " 360,\n",
       " 361,\n",
       " 362,\n",
       " 363,\n",
       " 364,\n",
       " 365,\n",
       " 366,\n",
       " 367,\n",
       " 368,\n",
       " 369,\n",
       " 370,\n",
       " 371,\n",
       " 372,\n",
       " 373,\n",
       " 374,\n",
       " 375,\n",
       " 376,\n",
       " 377,\n",
       " 378,\n",
       " 379,\n",
       " 380,\n",
       " 381,\n",
       " 382,\n",
       " 383,\n",
       " 384,\n",
       " 385,\n",
       " 386,\n",
       " 387,\n",
       " 388,\n",
       " 389,\n",
       " 390,\n",
       " 391,\n",
       " 392,\n",
       " 393,\n",
       " 394,\n",
       " 395,\n",
       " 396,\n",
       " 397,\n",
       " 398,\n",
       " 399,\n",
       " 400,\n",
       " 401,\n",
       " 402,\n",
       " 403,\n",
       " 404,\n",
       " 405,\n",
       " 406,\n",
       " 407,\n",
       " 408,\n",
       " 409,\n",
       " 410,\n",
       " 411,\n",
       " 412,\n",
       " 413,\n",
       " 414,\n",
       " 415,\n",
       " 416,\n",
       " 417,\n",
       " 418,\n",
       " 419,\n",
       " 420,\n",
       " 421,\n",
       " 422,\n",
       " 423,\n",
       " 424,\n",
       " 425,\n",
       " 426,\n",
       " 427,\n",
       " 428,\n",
       " 429,\n",
       " 430,\n",
       " 431,\n",
       " 432,\n",
       " 433,\n",
       " 434,\n",
       " 435,\n",
       " 436,\n",
       " 437,\n",
       " 438,\n",
       " 439,\n",
       " 440,\n",
       " 441,\n",
       " 442,\n",
       " 443,\n",
       " 444,\n",
       " 445,\n",
       " 446,\n",
       " 447,\n",
       " 448,\n",
       " 449,\n",
       " 450,\n",
       " 451,\n",
       " 452,\n",
       " 453,\n",
       " 454,\n",
       " 455,\n",
       " 456,\n",
       " 457,\n",
       " 458,\n",
       " 459,\n",
       " 460,\n",
       " 461,\n",
       " 462,\n",
       " 463,\n",
       " 464,\n",
       " 465,\n",
       " 466,\n",
       " 467,\n",
       " 468,\n",
       " 469,\n",
       " 470,\n",
       " 471,\n",
       " 472,\n",
       " 473,\n",
       " 474,\n",
       " 475,\n",
       " 476,\n",
       " 477,\n",
       " 478,\n",
       " 479,\n",
       " 480,\n",
       " 481,\n",
       " 482,\n",
       " 483,\n",
       " 484,\n",
       " 485,\n",
       " 486,\n",
       " 487,\n",
       " 488,\n",
       " 489,\n",
       " 490,\n",
       " 491,\n",
       " 492,\n",
       " 493,\n",
       " 494,\n",
       " 495,\n",
       " 496,\n",
       " 497,\n",
       " 498,\n",
       " 499,\n",
       " 500,\n",
       " 501,\n",
       " 502,\n",
       " 503,\n",
       " 504,\n",
       " 505,\n",
       " 506,\n",
       " 507,\n",
       " 508,\n",
       " 509,\n",
       " 510,\n",
       " 511,\n",
       " 512,\n",
       " 513,\n",
       " 514,\n",
       " 515,\n",
       " 516,\n",
       " 517,\n",
       " 518,\n",
       " 519,\n",
       " 520,\n",
       " 521,\n",
       " 522,\n",
       " 523,\n",
       " 524,\n",
       " 525,\n",
       " 526,\n",
       " 527,\n",
       " 528,\n",
       " 529,\n",
       " 530,\n",
       " 531,\n",
       " 532,\n",
       " 533,\n",
       " 534,\n",
       " 535,\n",
       " 536,\n",
       " 537,\n",
       " 538,\n",
       " 539,\n",
       " 540,\n",
       " 541,\n",
       " 542,\n",
       " 543,\n",
       " 544,\n",
       " 545,\n",
       " 546,\n",
       " 547,\n",
       " 548,\n",
       " 549,\n",
       " 550,\n",
       " 551,\n",
       " 552,\n",
       " 553,\n",
       " 554,\n",
       " 555,\n",
       " 556,\n",
       " 557,\n",
       " 558,\n",
       " 559,\n",
       " 560,\n",
       " 561,\n",
       " 562,\n",
       " 563,\n",
       " 564,\n",
       " 565,\n",
       " 566,\n",
       " 567,\n",
       " 568,\n",
       " 569,\n",
       " 570,\n",
       " 571,\n",
       " 572,\n",
       " 573,\n",
       " 574,\n",
       " 575,\n",
       " 576,\n",
       " 577,\n",
       " 578,\n",
       " 579,\n",
       " 580,\n",
       " 581,\n",
       " 582,\n",
       " 583,\n",
       " 584,\n",
       " 585,\n",
       " 586,\n",
       " 587,\n",
       " 588,\n",
       " 589,\n",
       " 590,\n",
       " 591,\n",
       " 592,\n",
       " 593,\n",
       " 594,\n",
       " 595,\n",
       " 596,\n",
       " 597,\n",
       " 598,\n",
       " 599,\n",
       " 600,\n",
       " 601,\n",
       " 602,\n",
       " 603,\n",
       " 604,\n",
       " 605,\n",
       " 606,\n",
       " 607,\n",
       " 608,\n",
       " 609,\n",
       " 610,\n",
       " 611,\n",
       " 612,\n",
       " 613,\n",
       " 614,\n",
       " 615,\n",
       " 616,\n",
       " 617,\n",
       " 618,\n",
       " 619,\n",
       " 620,\n",
       " 621,\n",
       " 622,\n",
       " 623,\n",
       " 624,\n",
       " 625,\n",
       " 626,\n",
       " 627,\n",
       " 628,\n",
       " 629,\n",
       " 630,\n",
       " 631,\n",
       " 632,\n",
       " 633,\n",
       " 634,\n",
       " 635,\n",
       " 636,\n",
       " 637,\n",
       " 638,\n",
       " 639,\n",
       " 640,\n",
       " 641,\n",
       " 642,\n",
       " 643,\n",
       " 644,\n",
       " 645,\n",
       " 646,\n",
       " 647,\n",
       " 648,\n",
       " 649,\n",
       " 650,\n",
       " 651,\n",
       " 652,\n",
       " 653,\n",
       " 654,\n",
       " 655,\n",
       " 656,\n",
       " 657,\n",
       " 658,\n",
       " 659,\n",
       " 660,\n",
       " 661,\n",
       " 662,\n",
       " 663,\n",
       " 664,\n",
       " 665,\n",
       " 666,\n",
       " 667,\n",
       " 668,\n",
       " 669,\n",
       " 670,\n",
       " 671,\n",
       " 672,\n",
       " 673,\n",
       " 674,\n",
       " 675,\n",
       " 676,\n",
       " 677,\n",
       " 678,\n",
       " 679,\n",
       " 680,\n",
       " 681,\n",
       " 682,\n",
       " 683,\n",
       " 684,\n",
       " 685,\n",
       " 686,\n",
       " 687,\n",
       " 688,\n",
       " 689,\n",
       " 690,\n",
       " 691,\n",
       " 692,\n",
       " 693,\n",
       " 694,\n",
       " 695,\n",
       " 696,\n",
       " 697,\n",
       " 698,\n",
       " 699,\n",
       " 700,\n",
       " 701,\n",
       " 702,\n",
       " 703,\n",
       " 704,\n",
       " 705,\n",
       " 706,\n",
       " 707,\n",
       " 708,\n",
       " 709,\n",
       " 710,\n",
       " 711,\n",
       " 712,\n",
       " 713,\n",
       " 714,\n",
       " 715,\n",
       " 716,\n",
       " 717,\n",
       " 718,\n",
       " 719,\n",
       " 720,\n",
       " 721,\n",
       " 722,\n",
       " 723,\n",
       " 724,\n",
       " 725,\n",
       " 726,\n",
       " 727,\n",
       " 728,\n",
       " 729,\n",
       " 730,\n",
       " 731,\n",
       " 732,\n",
       " 733,\n",
       " 734,\n",
       " 735,\n",
       " 736,\n",
       " 737,\n",
       " 738,\n",
       " 739,\n",
       " 740,\n",
       " 741,\n",
       " 742,\n",
       " 743,\n",
       " 744,\n",
       " 745,\n",
       " 746,\n",
       " 747,\n",
       " 748,\n",
       " 749,\n",
       " 750,\n",
       " 751,\n",
       " 752,\n",
       " 753,\n",
       " 754,\n",
       " 755,\n",
       " 756,\n",
       " 757,\n",
       " 758,\n",
       " 759,\n",
       " 760,\n",
       " 761,\n",
       " 762,\n",
       " 763,\n",
       " 764,\n",
       " 765,\n",
       " 766,\n",
       " 767,\n",
       " 768,\n",
       " 769,\n",
       " 770,\n",
       " 771,\n",
       " 772,\n",
       " 773,\n",
       " 774,\n",
       " 775,\n",
       " 776,\n",
       " 777,\n",
       " 778,\n",
       " 779,\n",
       " 780,\n",
       " 781,\n",
       " 782,\n",
       " 783,\n",
       " 784,\n",
       " 785,\n",
       " 786,\n",
       " 787,\n",
       " 788,\n",
       " 789,\n",
       " 790,\n",
       " 791,\n",
       " 792,\n",
       " 793,\n",
       " 794,\n",
       " 795,\n",
       " 796,\n",
       " 797,\n",
       " 798,\n",
       " 799,\n",
       " 800,\n",
       " 801,\n",
       " 802,\n",
       " 803,\n",
       " 804,\n",
       " 805,\n",
       " 806,\n",
       " 807,\n",
       " 808,\n",
       " 809,\n",
       " 810,\n",
       " 811,\n",
       " 812,\n",
       " 813,\n",
       " 814,\n",
       " 815,\n",
       " 816,\n",
       " 817,\n",
       " 818,\n",
       " 819,\n",
       " 820,\n",
       " 821,\n",
       " 822,\n",
       " 823,\n",
       " 824,\n",
       " 825,\n",
       " 826,\n",
       " 827,\n",
       " 828,\n",
       " 829,\n",
       " 830,\n",
       " 831,\n",
       " 832,\n",
       " 833,\n",
       " 834,\n",
       " 835,\n",
       " 836,\n",
       " 837,\n",
       " 838,\n",
       " 839,\n",
       " 840,\n",
       " 841,\n",
       " 842,\n",
       " 843,\n",
       " 844,\n",
       " 845,\n",
       " 846,\n",
       " 847,\n",
       " 848,\n",
       " 849,\n",
       " 850,\n",
       " 851,\n",
       " 852,\n",
       " 853,\n",
       " 854,\n",
       " 855,\n",
       " 856,\n",
       " 857,\n",
       " 858,\n",
       " 859,\n",
       " 860,\n",
       " 861,\n",
       " 862,\n",
       " 863,\n",
       " 864,\n",
       " 865,\n",
       " 866,\n",
       " 867,\n",
       " 868,\n",
       " 869,\n",
       " 870,\n",
       " 871,\n",
       " 872,\n",
       " 873,\n",
       " 874,\n",
       " 875,\n",
       " 876,\n",
       " 877,\n",
       " 878,\n",
       " 879,\n",
       " 880,\n",
       " 881,\n",
       " 882,\n",
       " 883,\n",
       " 884,\n",
       " 885,\n",
       " 886,\n",
       " 887,\n",
       " 888,\n",
       " 889,\n",
       " 890,\n",
       " 891,\n",
       " 892,\n",
       " 893,\n",
       " 894,\n",
       " 895,\n",
       " 896,\n",
       " 897,\n",
       " 898,\n",
       " 899,\n",
       " 900,\n",
       " 901,\n",
       " 902,\n",
       " 903,\n",
       " 904,\n",
       " 905,\n",
       " 906,\n",
       " 907,\n",
       " 908,\n",
       " 909,\n",
       " 910,\n",
       " 911,\n",
       " 912,\n",
       " 913,\n",
       " 914,\n",
       " 915,\n",
       " 916,\n",
       " 917,\n",
       " 918,\n",
       " 919,\n",
       " 920,\n",
       " 921,\n",
       " 922,\n",
       " 923,\n",
       " 924,\n",
       " 925,\n",
       " 926,\n",
       " 927,\n",
       " 928,\n",
       " 929,\n",
       " 930,\n",
       " 931,\n",
       " 932,\n",
       " 933,\n",
       " 934,\n",
       " 935,\n",
       " 936,\n",
       " 937,\n",
       " 938,\n",
       " 939,\n",
       " 940,\n",
       " 941,\n",
       " 942,\n",
       " 943,\n",
       " 944,\n",
       " 945,\n",
       " 946,\n",
       " 947,\n",
       " 948,\n",
       " 949,\n",
       " 950,\n",
       " 951,\n",
       " 952,\n",
       " 953,\n",
       " 954,\n",
       " 955,\n",
       " 956,\n",
       " 957,\n",
       " 958,\n",
       " 959,\n",
       " 960,\n",
       " 961,\n",
       " 962,\n",
       " 963,\n",
       " 964,\n",
       " 965,\n",
       " 966,\n",
       " 967,\n",
       " 968,\n",
       " 969,\n",
       " 970,\n",
       " 971,\n",
       " 972,\n",
       " 973,\n",
       " 974,\n",
       " 975,\n",
       " 976,\n",
       " 977,\n",
       " 978,\n",
       " 979,\n",
       " 980,\n",
       " 981,\n",
       " 982,\n",
       " 983,\n",
       " 984,\n",
       " 985,\n",
       " 986,\n",
       " 987,\n",
       " 988,\n",
       " 989,\n",
       " 990,\n",
       " 991,\n",
       " 992,\n",
       " 993,\n",
       " 994,\n",
       " 995,\n",
       " 996,\n",
       " 997,\n",
       " 998,\n",
       " 999,\n",
       " ...]"
      ]
     },
     "execution_count": 2,
     "metadata": {},
     "output_type": "execute_result"
    }
   ],
   "source": [
    "my_list = list(range(1000000))\n",
    "my_list"
   ]
  },
  {
   "cell_type": "code",
   "execution_count": 3,
   "metadata": {},
   "outputs": [
    {
     "name": "stdout",
     "output_type": "stream",
     "text": [
      "CPU times: user 7 ms, sys: 14.7 ms, total: 21.7 ms\n",
      "Wall time: 27.7 ms\n"
     ]
    }
   ],
   "source": [
    "%time for _ in range(10): my_arr2 = my_arr * 2"
   ]
  },
  {
   "cell_type": "code",
   "execution_count": 4,
   "metadata": {},
   "outputs": [
    {
     "name": "stdout",
     "output_type": "stream",
     "text": [
      "CPU times: user 205 ms, sys: 63.2 ms, total: 269 ms\n",
      "Wall time: 281 ms\n"
     ]
    }
   ],
   "source": [
    "%time for _ in range(10): my_list2 = [x * 2 for x in my_list]"
   ]
  },
  {
   "cell_type": "code",
   "execution_count": 5,
   "metadata": {},
   "outputs": [
    {
     "data": {
      "text/plain": [
       "array([[-1.01196628,  0.55546394, -0.678868  ],\n",
       "       [-0.16094214, -1.27526977,  0.04738998]])"
      ]
     },
     "execution_count": 5,
     "metadata": {},
     "output_type": "execute_result"
    }
   ],
   "source": [
    "data=np.random.randn(2,3)\n",
    "data"
   ]
  },
  {
   "cell_type": "code",
   "execution_count": 6,
   "metadata": {},
   "outputs": [
    {
     "data": {
      "text/plain": [
       "array([[-10.1196628 ,   5.55463935,  -6.78867996],\n",
       "       [ -1.60942144, -12.75269767,   0.4738998 ]])"
      ]
     },
     "execution_count": 6,
     "metadata": {},
     "output_type": "execute_result"
    }
   ],
   "source": [
    "data*10"
   ]
  },
  {
   "cell_type": "code",
   "execution_count": 7,
   "metadata": {},
   "outputs": [
    {
     "data": {
      "text/plain": [
       "array([[-2.02393256,  1.11092787, -1.35773599],\n",
       "       [-0.32188429, -2.55053953,  0.09477996]])"
      ]
     },
     "execution_count": 7,
     "metadata": {},
     "output_type": "execute_result"
    }
   ],
   "source": [
    "data+data"
   ]
  },
  {
   "attachments": {},
   "cell_type": "markdown",
   "metadata": {},
   "source": [
    "shape(一个表示各维度大小的元组)"
   ]
  },
  {
   "cell_type": "code",
   "execution_count": 8,
   "metadata": {},
   "outputs": [
    {
     "data": {
      "text/plain": [
       "(2, 3)"
      ]
     },
     "execution_count": 8,
     "metadata": {},
     "output_type": "execute_result"
    }
   ],
   "source": [
    "data.shape"
   ]
  },
  {
   "cell_type": "code",
   "execution_count": 9,
   "metadata": {},
   "outputs": [
    {
     "data": {
      "text/plain": [
       "dtype('float64')"
      ]
     },
     "execution_count": 9,
     "metadata": {},
     "output_type": "execute_result"
    }
   ],
   "source": [
    "data.dtype"
   ]
  },
  {
   "cell_type": "code",
   "execution_count": 10,
   "metadata": {},
   "outputs": [
    {
     "data": {
      "text/plain": [
       "array([6. , 7.5, 8. , 0. , 1. ])"
      ]
     },
     "execution_count": 10,
     "metadata": {},
     "output_type": "execute_result"
    }
   ],
   "source": [
    "array1=[6,7.5,8,0,1]\n",
    "arr1=np.array(array1)\n",
    "arr1"
   ]
  },
  {
   "cell_type": "code",
   "execution_count": 11,
   "metadata": {},
   "outputs": [
    {
     "data": {
      "text/plain": [
       "array([[1, 2, 3, 4],\n",
       "       [5, 6, 7, 8]])"
      ]
     },
     "execution_count": 11,
     "metadata": {},
     "output_type": "execute_result"
    }
   ],
   "source": [
    "data2=[[1,2,3,4],[5,6,7,8]]\n",
    "arr2=np.array(data2)\n",
    "arr2"
   ]
  },
  {
   "cell_type": "code",
   "execution_count": 13,
   "metadata": {},
   "outputs": [
    {
     "data": {
      "text/plain": [
       "dtype('float64')"
      ]
     },
     "execution_count": 13,
     "metadata": {},
     "output_type": "execute_result"
    }
   ],
   "source": [
    "np.zeros(10).dtype"
   ]
  },
  {
   "cell_type": "code",
   "execution_count": 14,
   "metadata": {},
   "outputs": [
    {
     "data": {
      "text/plain": [
       "array([[[0., 0.],\n",
       "        [0., 0.],\n",
       "        [0., 0.]],\n",
       "\n",
       "       [[0., 0.],\n",
       "        [0., 0.],\n",
       "        [0., 0.]]])"
      ]
     },
     "execution_count": 14,
     "metadata": {},
     "output_type": "execute_result"
    }
   ],
   "source": [
    "np.empty((2,3,2))"
   ]
  },
  {
   "cell_type": "code",
   "execution_count": 16,
   "metadata": {},
   "outputs": [
    {
     "data": {
      "text/plain": [
       "array([ 0,  1,  2,  3,  4,  5,  6,  7,  8,  9, 10, 11, 12, 13, 14])"
      ]
     },
     "execution_count": 16,
     "metadata": {},
     "output_type": "execute_result"
    }
   ],
   "source": [
    "np.arange(15)"
   ]
  },
  {
   "cell_type": "code",
   "execution_count": 17,
   "metadata": {},
   "outputs": [
    {
     "data": {
      "text/plain": [
       "array([1., 2., 3.])"
      ]
     },
     "execution_count": 17,
     "metadata": {},
     "output_type": "execute_result"
    }
   ],
   "source": [
    "np.array([1,2,3],dtype=np.float64)"
   ]
  },
  {
   "cell_type": "code",
   "execution_count": 18,
   "metadata": {},
   "outputs": [
    {
     "data": {
      "text/plain": [
       "array([1., 2., 3.])"
      ]
     },
     "execution_count": 18,
     "metadata": {},
     "output_type": "execute_result"
    }
   ],
   "source": [
    "np.asarray([1,2,3],dtype=np.float64)"
   ]
  },
  {
   "cell_type": "code",
   "execution_count": 19,
   "metadata": {},
   "outputs": [
    {
     "data": {
      "text/plain": [
       "array([[1., 1., 1., 1.],\n",
       "       [1., 1., 1., 1.],\n",
       "       [1., 1., 1., 1.]])"
      ]
     },
     "execution_count": 19,
     "metadata": {},
     "output_type": "execute_result"
    }
   ],
   "source": [
    "np.ones((3,4))"
   ]
  },
  {
   "cell_type": "code",
   "execution_count": 22,
   "metadata": {},
   "outputs": [
    {
     "name": "stdout",
     "output_type": "stream",
     "text": [
      "2 (2, 4) int64\n"
     ]
    },
    {
     "data": {
      "text/plain": [
       "array([[1, 1, 1, 1],\n",
       "       [1, 1, 1, 1]])"
      ]
     },
     "execution_count": 22,
     "metadata": {},
     "output_type": "execute_result"
    }
   ],
   "source": [
    "print(arr2.ndim,arr2.shape,arr2.dtype)\n",
    "np.ones_like(arr2)"
   ]
  },
  {
   "cell_type": "code",
   "execution_count": 23,
   "metadata": {},
   "outputs": [
    {
     "data": {
      "text/plain": [
       "array([[0, 0, 0, 0],\n",
       "       [0, 0, 0, 0]])"
      ]
     },
     "execution_count": 23,
     "metadata": {},
     "output_type": "execute_result"
    }
   ],
   "source": [
    "np.empty_like(arr2)"
   ]
  },
  {
   "cell_type": "code",
   "execution_count": 24,
   "metadata": {},
   "outputs": [
    {
     "data": {
      "text/plain": [
       "array([[5, 5, 5],\n",
       "       [5, 5, 5]])"
      ]
     },
     "execution_count": 24,
     "metadata": {},
     "output_type": "execute_result"
    }
   ],
   "source": [
    "np.full((2,3),fill_value=5)"
   ]
  },
  {
   "cell_type": "code",
   "execution_count": 25,
   "metadata": {},
   "outputs": [
    {
     "data": {
      "text/plain": [
       "array([[5, 5, 5, 5],\n",
       "       [5, 5, 5, 5]])"
      ]
     },
     "execution_count": 25,
     "metadata": {},
     "output_type": "execute_result"
    }
   ],
   "source": [
    "np.full_like(arr2,fill_value=5)"
   ]
  },
  {
   "cell_type": "code",
   "execution_count": 26,
   "metadata": {},
   "outputs": [
    {
     "data": {
      "text/plain": [
       "array([[1., 0., 0.],\n",
       "       [0., 1., 0.],\n",
       "       [0., 0., 1.]])"
      ]
     },
     "execution_count": 26,
     "metadata": {},
     "output_type": "execute_result"
    }
   ],
   "source": [
    "np.eye(3)"
   ]
  },
  {
   "cell_type": "code",
   "execution_count": 27,
   "metadata": {},
   "outputs": [
    {
     "data": {
      "text/plain": [
       "array([[1., 0., 0.],\n",
       "       [0., 1., 0.],\n",
       "       [0., 0., 1.]])"
      ]
     },
     "execution_count": 27,
     "metadata": {},
     "output_type": "execute_result"
    }
   ],
   "source": [
    "np.identity(3)"
   ]
  },
  {
   "cell_type": "code",
   "execution_count": 28,
   "metadata": {},
   "outputs": [
    {
     "data": {
      "text/plain": [
       "array([         0, 1075314688,          0, 1075707904,          0,\n",
       "       1075838976,          0, 1072693248], dtype=uint32)"
      ]
     },
     "execution_count": 28,
     "metadata": {},
     "output_type": "execute_result"
    }
   ],
   "source": [
    "np.empty(8,dtype='u4')"
   ]
  },
  {
   "cell_type": "code",
   "execution_count": 29,
   "metadata": {},
   "outputs": [
    {
     "data": {
      "text/plain": [
       "array([[1., 2., 3.],\n",
       "       [4., 5., 6.]])"
      ]
     },
     "execution_count": 29,
     "metadata": {},
     "output_type": "execute_result"
    }
   ],
   "source": [
    "arr=np.array([[1.,2.,3.],[4.,5.,6.]])\n",
    "arr"
   ]
  },
  {
   "cell_type": "code",
   "execution_count": 30,
   "metadata": {},
   "outputs": [
    {
     "data": {
      "text/plain": [
       "array([[ 1.,  4.,  9.],\n",
       "       [16., 25., 36.]])"
      ]
     },
     "execution_count": 30,
     "metadata": {},
     "output_type": "execute_result"
    }
   ],
   "source": [
    "arr*arr"
   ]
  },
  {
   "cell_type": "code",
   "execution_count": 31,
   "metadata": {},
   "outputs": [
    {
     "data": {
      "text/plain": [
       "array([[0., 0., 0.],\n",
       "       [0., 0., 0.]])"
      ]
     },
     "execution_count": 31,
     "metadata": {},
     "output_type": "execute_result"
    }
   ],
   "source": [
    "arr-arr"
   ]
  },
  {
   "cell_type": "code",
   "execution_count": 32,
   "metadata": {},
   "outputs": [
    {
     "data": {
      "text/plain": [
       "array([[1.        , 0.5       , 0.33333333],\n",
       "       [0.25      , 0.2       , 0.16666667]])"
      ]
     },
     "execution_count": 32,
     "metadata": {},
     "output_type": "execute_result"
    }
   ],
   "source": [
    "1/arr"
   ]
  },
  {
   "cell_type": "code",
   "execution_count": 33,
   "metadata": {},
   "outputs": [
    {
     "data": {
      "text/plain": [
       "array([[1.        , 1.41421356, 1.73205081],\n",
       "       [2.        , 2.23606798, 2.44948974]])"
      ]
     },
     "execution_count": 33,
     "metadata": {},
     "output_type": "execute_result"
    }
   ],
   "source": [
    "arr**0.5"
   ]
  },
  {
   "cell_type": "code",
   "execution_count": 34,
   "metadata": {},
   "outputs": [
    {
     "data": {
      "text/plain": [
       "array([[False,  True, False],\n",
       "       [ True, False,  True]])"
      ]
     },
     "execution_count": 34,
     "metadata": {},
     "output_type": "execute_result"
    }
   ],
   "source": [
    "arr2=np.array([[0.,4.,1.],[7.,2.,12.]])\n",
    "arr2>arr"
   ]
  },
  {
   "cell_type": "code",
   "execution_count": 35,
   "metadata": {},
   "outputs": [
    {
     "data": {
      "text/plain": [
       "5"
      ]
     },
     "execution_count": 35,
     "metadata": {},
     "output_type": "execute_result"
    }
   ],
   "source": [
    "arr=np.arange(10)\n",
    "arr[5]"
   ]
  },
  {
   "cell_type": "code",
   "execution_count": 36,
   "metadata": {},
   "outputs": [
    {
     "data": {
      "text/plain": [
       "array([5, 6, 7])"
      ]
     },
     "execution_count": 36,
     "metadata": {},
     "output_type": "execute_result"
    }
   ],
   "source": [
    "arr[5:8]"
   ]
  },
  {
   "cell_type": "code",
   "execution_count": 37,
   "metadata": {},
   "outputs": [
    {
     "data": {
      "text/plain": [
       "array([ 0,  1,  2,  3,  4, 12, 12, 12,  8,  9])"
      ]
     },
     "execution_count": 37,
     "metadata": {},
     "output_type": "execute_result"
    }
   ],
   "source": [
    "arr[5:8]=12\n",
    "arr"
   ]
  },
  {
   "cell_type": "code",
   "execution_count": 38,
   "metadata": {},
   "outputs": [
    {
     "data": {
      "text/plain": [
       "array([12, 12, 12])"
      ]
     },
     "execution_count": 38,
     "metadata": {},
     "output_type": "execute_result"
    }
   ],
   "source": [
    "arr_slice=arr[5:8]\n",
    "arr_slice"
   ]
  },
  {
   "cell_type": "code",
   "execution_count": 39,
   "metadata": {},
   "outputs": [],
   "source": [
    "arr_slice[1]=12345"
   ]
  },
  {
   "cell_type": "code",
   "execution_count": 40,
   "metadata": {},
   "outputs": [
    {
     "data": {
      "text/plain": [
       "array([    0,     1,     2,     3,     4,    12, 12345,    12,     8,\n",
       "           9])"
      ]
     },
     "execution_count": 40,
     "metadata": {},
     "output_type": "execute_result"
    }
   ],
   "source": [
    "arr"
   ]
  },
  {
   "cell_type": "code",
   "execution_count": 41,
   "metadata": {},
   "outputs": [
    {
     "data": {
      "text/plain": [
       "array([ 0,  1,  2,  3,  4, 64, 64, 64,  8,  9])"
      ]
     },
     "execution_count": 41,
     "metadata": {},
     "output_type": "execute_result"
    }
   ],
   "source": [
    "arr_slice[:]=64\n",
    "arr"
   ]
  },
  {
   "cell_type": "code",
   "execution_count": 42,
   "metadata": {},
   "outputs": [
    {
     "data": {
      "text/plain": [
       "array([7, 8, 9])"
      ]
     },
     "execution_count": 42,
     "metadata": {},
     "output_type": "execute_result"
    }
   ],
   "source": [
    "arr2d=np.array([[1,2,3],[4,5,6],[7,8,9]])\n",
    "arr2d[2]"
   ]
  },
  {
   "cell_type": "code",
   "execution_count": 43,
   "metadata": {},
   "outputs": [
    {
     "data": {
      "text/plain": [
       "3"
      ]
     },
     "execution_count": 43,
     "metadata": {},
     "output_type": "execute_result"
    }
   ],
   "source": [
    "arr2d[0][2]"
   ]
  },
  {
   "cell_type": "code",
   "execution_count": 44,
   "metadata": {},
   "outputs": [
    {
     "data": {
      "text/plain": [
       "3"
      ]
     },
     "execution_count": 44,
     "metadata": {},
     "output_type": "execute_result"
    }
   ],
   "source": [
    "arr2d[0,2]"
   ]
  },
  {
   "cell_type": "code",
   "execution_count": 45,
   "metadata": {},
   "outputs": [
    {
     "data": {
      "text/plain": [
       "array([[[ 1,  2,  3],\n",
       "        [ 4,  5,  6]],\n",
       "\n",
       "       [[ 7,  8,  9],\n",
       "        [10, 11, 12]]])"
      ]
     },
     "execution_count": 45,
     "metadata": {},
     "output_type": "execute_result"
    }
   ],
   "source": [
    "arr3d=np.array([[[1,2,3],[4,5,6]],[[7,8,9],[10,11,12]]])\n",
    "arr3d"
   ]
  },
  {
   "cell_type": "code",
   "execution_count": 46,
   "metadata": {},
   "outputs": [
    {
     "data": {
      "text/plain": [
       "array([[1, 2, 3],\n",
       "       [4, 5, 6]])"
      ]
     },
     "execution_count": 46,
     "metadata": {},
     "output_type": "execute_result"
    }
   ],
   "source": [
    "arr3d[0]"
   ]
  },
  {
   "cell_type": "code",
   "execution_count": 47,
   "metadata": {},
   "outputs": [
    {
     "data": {
      "text/plain": [
       "array([[[42, 42, 42],\n",
       "        [42, 42, 42]],\n",
       "\n",
       "       [[ 7,  8,  9],\n",
       "        [10, 11, 12]]])"
      ]
     },
     "execution_count": 47,
     "metadata": {},
     "output_type": "execute_result"
    }
   ],
   "source": [
    "old_values=arr3d[0].copy()\n",
    "arr3d[0]=42\n",
    "arr3d"
   ]
  },
  {
   "cell_type": "code",
   "execution_count": 49,
   "metadata": {},
   "outputs": [
    {
     "data": {
      "text/plain": [
       "array([[[ 1,  2,  3],\n",
       "        [ 4,  5,  6]],\n",
       "\n",
       "       [[ 7,  8,  9],\n",
       "        [10, 11, 12]]])"
      ]
     },
     "execution_count": 49,
     "metadata": {},
     "output_type": "execute_result"
    }
   ],
   "source": [
    "arr3d[0]=old_values\n",
    "arr3d"
   ]
  },
  {
   "cell_type": "code",
   "execution_count": 50,
   "metadata": {},
   "outputs": [
    {
     "data": {
      "text/plain": [
       "array([7, 8, 9])"
      ]
     },
     "execution_count": 50,
     "metadata": {},
     "output_type": "execute_result"
    }
   ],
   "source": [
    "arr3d[1,0]"
   ]
  },
  {
   "cell_type": "code",
   "execution_count": 51,
   "metadata": {},
   "outputs": [
    {
     "data": {
      "text/plain": [
       "array([[ 7,  8,  9],\n",
       "       [10, 11, 12]])"
      ]
     },
     "execution_count": 51,
     "metadata": {},
     "output_type": "execute_result"
    }
   ],
   "source": [
    "x=arr3d[1]\n",
    "x"
   ]
  },
  {
   "cell_type": "code",
   "execution_count": 52,
   "metadata": {},
   "outputs": [
    {
     "data": {
      "text/plain": [
       "array([7, 8, 9])"
      ]
     },
     "execution_count": 52,
     "metadata": {},
     "output_type": "execute_result"
    }
   ],
   "source": [
    "x[0]"
   ]
  },
  {
   "cell_type": "code",
   "execution_count": 54,
   "metadata": {},
   "outputs": [
    {
     "data": {
      "text/plain": [
       "array([ 1,  2,  3,  4, 64])"
      ]
     },
     "execution_count": 54,
     "metadata": {},
     "output_type": "execute_result"
    }
   ],
   "source": [
    "arr[1:6]"
   ]
  },
  {
   "cell_type": "code",
   "execution_count": 56,
   "metadata": {},
   "outputs": [
    {
     "data": {
      "text/plain": [
       "array([[1, 2, 3],\n",
       "       [4, 5, 6]])"
      ]
     },
     "execution_count": 56,
     "metadata": {},
     "output_type": "execute_result"
    }
   ],
   "source": [
    "arr2d[:2]"
   ]
  },
  {
   "cell_type": "code",
   "execution_count": 57,
   "metadata": {},
   "outputs": [
    {
     "data": {
      "text/plain": [
       "array([[2, 3],\n",
       "       [5, 6]])"
      ]
     },
     "execution_count": 57,
     "metadata": {},
     "output_type": "execute_result"
    }
   ],
   "source": [
    "arr2d[:2,1:]"
   ]
  },
  {
   "cell_type": "code",
   "execution_count": 58,
   "metadata": {},
   "outputs": [
    {
     "data": {
      "text/plain": [
       "array([3, 6])"
      ]
     },
     "execution_count": 58,
     "metadata": {},
     "output_type": "execute_result"
    }
   ],
   "source": [
    "arr2d[:2,2]"
   ]
  },
  {
   "cell_type": "code",
   "execution_count": 59,
   "metadata": {},
   "outputs": [
    {
     "data": {
      "text/plain": [
       "array([[1],\n",
       "       [4],\n",
       "       [7]])"
      ]
     },
     "execution_count": 59,
     "metadata": {},
     "output_type": "execute_result"
    }
   ],
   "source": [
    "arr2d[:,:1]"
   ]
  },
  {
   "cell_type": "code",
   "execution_count": 67,
   "metadata": {},
   "outputs": [
    {
     "data": {
      "text/plain": [
       "array([[ 0,  1,  2,  3],\n",
       "       [ 4,  0,  0,  7],\n",
       "       [ 8,  0,  0, 11],\n",
       "       [12, 13, 14, 15]])"
      ]
     },
     "execution_count": 67,
     "metadata": {},
     "output_type": "execute_result"
    }
   ],
   "source": [
    "arr=np.arange(16)\n",
    "arr=arr.reshape((4,4))\n",
    "arr[1:3,1:3]=0\n",
    "arr"
   ]
  },
  {
   "cell_type": "code",
   "execution_count": 68,
   "metadata": {},
   "outputs": [
    {
     "data": {
      "text/plain": [
       "array(['Bob', 'Joe', 'Will', 'Bob', 'Will', 'Joe', 'Joe'], dtype='<U4')"
      ]
     },
     "execution_count": 68,
     "metadata": {},
     "output_type": "execute_result"
    }
   ],
   "source": [
    "names=np.array(['Bob','Joe','Will','Bob','Will','Joe','Joe'])\n",
    "data=np.random.randn(7,4)\n",
    "names"
   ]
  },
  {
   "cell_type": "code",
   "execution_count": 69,
   "metadata": {},
   "outputs": [
    {
     "data": {
      "text/plain": [
       "array([[-1.40681776,  0.16687343,  1.58397977, -0.95920506],\n",
       "       [-0.87900585, -0.25745558,  1.20179038, -0.39198017],\n",
       "       [-0.26111056,  2.90217917, -1.52049128,  1.61827629],\n",
       "       [ 0.43209993,  1.61066869,  0.15589713,  1.70505966],\n",
       "       [ 1.49458971,  0.81954402,  0.48872004,  2.24868646],\n",
       "       [ 0.15547143,  1.26777739, -1.41276979,  0.75788414],\n",
       "       [-1.14338952, -0.36315612,  0.90360442,  1.95522236]])"
      ]
     },
     "execution_count": 69,
     "metadata": {},
     "output_type": "execute_result"
    }
   ],
   "source": [
    "data"
   ]
  },
  {
   "cell_type": "code",
   "execution_count": 70,
   "metadata": {},
   "outputs": [
    {
     "data": {
      "text/plain": [
       "array([ True, False, False,  True, False, False, False])"
      ]
     },
     "execution_count": 70,
     "metadata": {},
     "output_type": "execute_result"
    }
   ],
   "source": [
    "names=='Bob'"
   ]
  },
  {
   "cell_type": "code",
   "execution_count": 72,
   "metadata": {},
   "outputs": [
    {
     "name": "stderr",
     "output_type": "stream",
     "text": [
      "/var/folders/6l/0rnqwtgd2lqfvr4vcry4xjrc0000gn/T/ipykernel_5561/1327568013.py:1: DeprecationWarning: elementwise comparison failed; this will raise an error in the future.\n",
      "  data[names=='Bob']==data\n"
     ]
    },
    {
     "data": {
      "text/plain": [
       "False"
      ]
     },
     "execution_count": 72,
     "metadata": {},
     "output_type": "execute_result"
    }
   ],
   "source": [
    "data[names=='Bob']==data"
   ]
  },
  {
   "cell_type": "code",
   "execution_count": 73,
   "metadata": {},
   "outputs": [
    {
     "data": {
      "text/plain": [
       "array([[ 1.58397977, -0.95920506],\n",
       "       [ 0.15589713,  1.70505966]])"
      ]
     },
     "execution_count": 73,
     "metadata": {},
     "output_type": "execute_result"
    }
   ],
   "source": [
    "data[names=='Bob',2:]"
   ]
  },
  {
   "cell_type": "code",
   "execution_count": 74,
   "metadata": {},
   "outputs": [
    {
     "data": {
      "text/plain": [
       "array([False,  True,  True, False,  True,  True,  True])"
      ]
     },
     "execution_count": 74,
     "metadata": {},
     "output_type": "execute_result"
    }
   ],
   "source": [
    "names!='Bob'"
   ]
  },
  {
   "cell_type": "code",
   "execution_count": 75,
   "metadata": {},
   "outputs": [
    {
     "data": {
      "text/plain": [
       "array([[-0.87900585, -0.25745558,  1.20179038, -0.39198017],\n",
       "       [-0.26111056,  2.90217917, -1.52049128,  1.61827629],\n",
       "       [ 1.49458971,  0.81954402,  0.48872004,  2.24868646],\n",
       "       [ 0.15547143,  1.26777739, -1.41276979,  0.75788414],\n",
       "       [-1.14338952, -0.36315612,  0.90360442,  1.95522236]])"
      ]
     },
     "execution_count": 75,
     "metadata": {},
     "output_type": "execute_result"
    }
   ],
   "source": [
    "data[~(names=='Bob')]"
   ]
  },
  {
   "cell_type": "code",
   "execution_count": 76,
   "metadata": {},
   "outputs": [
    {
     "data": {
      "text/plain": [
       "array([[-0.87900585, -0.25745558,  1.20179038, -0.39198017],\n",
       "       [-0.26111056,  2.90217917, -1.52049128,  1.61827629],\n",
       "       [ 1.49458971,  0.81954402,  0.48872004,  2.24868646],\n",
       "       [ 0.15547143,  1.26777739, -1.41276979,  0.75788414],\n",
       "       [-1.14338952, -0.36315612,  0.90360442,  1.95522236]])"
      ]
     },
     "execution_count": 76,
     "metadata": {},
     "output_type": "execute_result"
    }
   ],
   "source": [
    "cond=names=='Bob'\n",
    "data[~cond]"
   ]
  },
  {
   "cell_type": "code",
   "execution_count": 78,
   "metadata": {},
   "outputs": [
    {
     "data": {
      "text/plain": [
       "array([[-1.40681776,  0.16687343,  1.58397977, -0.95920506],\n",
       "       [-0.26111056,  2.90217917, -1.52049128,  1.61827629],\n",
       "       [ 0.43209993,  1.61066869,  0.15589713,  1.70505966],\n",
       "       [ 1.49458971,  0.81954402,  0.48872004,  2.24868646]])"
      ]
     },
     "execution_count": 78,
     "metadata": {},
     "output_type": "execute_result"
    }
   ],
   "source": [
    "mask=(names=='Bob')|(names=='Will')\n",
    "data[mask]"
   ]
  },
  {
   "cell_type": "code",
   "execution_count": 79,
   "metadata": {},
   "outputs": [
    {
     "data": {
      "text/plain": [
       "array([[0.        , 0.16687343, 1.58397977, 0.        ],\n",
       "       [0.        , 0.        , 1.20179038, 0.        ],\n",
       "       [0.        , 2.90217917, 0.        , 1.61827629],\n",
       "       [0.43209993, 1.61066869, 0.15589713, 1.70505966],\n",
       "       [1.49458971, 0.81954402, 0.48872004, 2.24868646],\n",
       "       [0.15547143, 1.26777739, 0.        , 0.75788414],\n",
       "       [0.        , 0.        , 0.90360442, 1.95522236]])"
      ]
     },
     "execution_count": 79,
     "metadata": {},
     "output_type": "execute_result"
    }
   ],
   "source": [
    "data[data<0]=0\n",
    "data"
   ]
  },
  {
   "cell_type": "code",
   "execution_count": 81,
   "metadata": {},
   "outputs": [
    {
     "data": {
      "text/plain": [
       "array([[7.        , 7.        , 7.        , 7.        ],\n",
       "       [0.        , 0.        , 1.20179038, 0.        ],\n",
       "       [7.        , 7.        , 7.        , 7.        ],\n",
       "       [7.        , 7.        , 7.        , 7.        ],\n",
       "       [7.        , 7.        , 7.        , 7.        ],\n",
       "       [0.15547143, 1.26777739, 0.        , 0.75788414],\n",
       "       [0.        , 0.        , 0.90360442, 1.95522236]])"
      ]
     },
     "execution_count": 81,
     "metadata": {},
     "output_type": "execute_result"
    }
   ],
   "source": [
    "data[names!='Joe']=7\n",
    "data"
   ]
  },
  {
   "cell_type": "code",
   "execution_count": 82,
   "metadata": {},
   "outputs": [
    {
     "data": {
      "text/plain": [
       "array([[0., 0., 0., 0.],\n",
       "       [1., 1., 1., 1.],\n",
       "       [2., 2., 2., 2.],\n",
       "       [3., 3., 3., 3.],\n",
       "       [4., 4., 4., 4.],\n",
       "       [5., 5., 5., 5.],\n",
       "       [6., 6., 6., 6.],\n",
       "       [7., 7., 7., 7.]])"
      ]
     },
     "execution_count": 82,
     "metadata": {},
     "output_type": "execute_result"
    }
   ],
   "source": [
    "arr=np.empty((8,4))\n",
    "for i in range(8):\n",
    "    arr[i]=i\n",
    "arr"
   ]
  },
  {
   "cell_type": "code",
   "execution_count": 83,
   "metadata": {},
   "outputs": [
    {
     "data": {
      "text/plain": [
       "array([[4., 4., 4., 4.],\n",
       "       [3., 3., 3., 3.],\n",
       "       [0., 0., 0., 0.],\n",
       "       [6., 6., 6., 6.]])"
      ]
     },
     "execution_count": 83,
     "metadata": {},
     "output_type": "execute_result"
    }
   ],
   "source": [
    "arr[[4,3,0,6]]"
   ]
  },
  {
   "cell_type": "code",
   "execution_count": 84,
   "metadata": {},
   "outputs": [
    {
     "data": {
      "text/plain": [
       "array([[5., 5., 5., 5.],\n",
       "       [3., 3., 3., 3.],\n",
       "       [1., 1., 1., 1.]])"
      ]
     },
     "execution_count": 84,
     "metadata": {},
     "output_type": "execute_result"
    }
   ],
   "source": [
    "arr[[-3,-5,-7]]"
   ]
  },
  {
   "cell_type": "code",
   "execution_count": 87,
   "metadata": {},
   "outputs": [
    {
     "data": {
      "text/plain": [
       "array([[ 0,  1,  2,  3],\n",
       "       [ 4,  5,  6,  7],\n",
       "       [ 8,  9, 10, 11],\n",
       "       [12, 13, 14, 15],\n",
       "       [16, 17, 18, 19],\n",
       "       [20, 21, 22, 23],\n",
       "       [24, 25, 26, 27],\n",
       "       [28, 29, 30, 31]])"
      ]
     },
     "execution_count": 87,
     "metadata": {},
     "output_type": "execute_result"
    }
   ],
   "source": [
    "arr=np.arange(32).reshape((8,4))\n",
    "arr"
   ]
  },
  {
   "cell_type": "code",
   "execution_count": 89,
   "metadata": {},
   "outputs": [
    {
     "data": {
      "text/plain": [
       "array([[ 4,  5,  6,  7],\n",
       "       [20, 21, 22, 23],\n",
       "       [28, 29, 30, 31],\n",
       "       [ 8,  9, 10, 11]])"
      ]
     },
     "execution_count": 89,
     "metadata": {},
     "output_type": "execute_result"
    }
   ],
   "source": [
    "arr[[1,5,7,2]]"
   ]
  },
  {
   "cell_type": "code",
   "execution_count": 90,
   "metadata": {},
   "outputs": [
    {
     "data": {
      "text/plain": [
       "array([[ 0,  1,  2,  3,  4],\n",
       "       [ 5,  6,  7,  8,  9],\n",
       "       [10, 11, 12, 13, 14]])"
      ]
     },
     "execution_count": 90,
     "metadata": {},
     "output_type": "execute_result"
    }
   ],
   "source": [
    "arr=np.arange(15).reshape((3,5))\n",
    "arr"
   ]
  },
  {
   "cell_type": "code",
   "execution_count": 91,
   "metadata": {},
   "outputs": [
    {
     "data": {
      "text/plain": [
       "array([[ 0,  5, 10],\n",
       "       [ 1,  6, 11],\n",
       "       [ 2,  7, 12],\n",
       "       [ 3,  8, 13],\n",
       "       [ 4,  9, 14]])"
      ]
     },
     "execution_count": 91,
     "metadata": {},
     "output_type": "execute_result"
    }
   ],
   "source": [
    "arr.T"
   ]
  },
  {
   "attachments": {},
   "cell_type": "markdown",
   "metadata": {},
   "source": [
    "利用np.dot计算矩阵内积"
   ]
  },
  {
   "cell_type": "code",
   "execution_count": 92,
   "metadata": {},
   "outputs": [
    {
     "data": {
      "text/plain": [
       "array([[-0.0068847 ,  0.14357973,  0.1026997 , -0.1989616 ,  3.63923801,\n",
       "         1.78246406],\n",
       "       [ 1.12218044,  0.22784631,  1.36199838,  0.62318285,  3.31296567,\n",
       "         1.7120647 ],\n",
       "       [ 0.40958782,  2.39285551,  1.85315892,  1.16613738,  3.86491217,\n",
       "         0.42356532],\n",
       "       [ 1.94286636, -1.26681358,  1.362053  ,  0.60613706,  1.04351149,\n",
       "         1.67074517],\n",
       "       [ 0.29671927, -0.07036862,  0.30019861, -0.05239602,  2.98177911,\n",
       "         1.63027931],\n",
       "       [ 1.03448192, -0.76964878,  0.7008898 , -0.02461158,  4.69015821,\n",
       "         3.09173888]])"
      ]
     },
     "execution_count": 92,
     "metadata": {},
     "output_type": "execute_result"
    }
   ],
   "source": [
    "np.random.randn(6,3).dot(np.random.randn(3,6))"
   ]
  },
  {
   "cell_type": "code",
   "execution_count": 93,
   "metadata": {},
   "outputs": [
    {
     "data": {
      "text/plain": [
       "[[1, 2], [3, 4]]"
      ]
     },
     "execution_count": 93,
     "metadata": {},
     "output_type": "execute_result"
    }
   ],
   "source": [
    "arr1=[[1,2],[3,4]]\n",
    "arr1"
   ]
  },
  {
   "cell_type": "code",
   "execution_count": 94,
   "metadata": {},
   "outputs": [
    {
     "data": {
      "text/plain": [
       "[[5, 6], [7, 8]]"
      ]
     },
     "execution_count": 94,
     "metadata": {},
     "output_type": "execute_result"
    }
   ],
   "source": [
    "arr2=[[5,6],[7,8]]\n",
    "arr2"
   ]
  },
  {
   "cell_type": "code",
   "execution_count": 95,
   "metadata": {},
   "outputs": [
    {
     "data": {
      "text/plain": [
       "array([[19, 22],\n",
       "       [43, 50]])"
      ]
     },
     "execution_count": 95,
     "metadata": {},
     "output_type": "execute_result"
    }
   ],
   "source": [
    "np.dot(arr1,arr2)"
   ]
  },
  {
   "cell_type": "code",
   "execution_count": 97,
   "metadata": {},
   "outputs": [
    {
     "data": {
      "text/plain": [
       "array([[[ 0,  1,  2,  3],\n",
       "        [ 4,  5,  6,  7]],\n",
       "\n",
       "       [[ 8,  9, 10, 11],\n",
       "        [12, 13, 14, 15]]])"
      ]
     },
     "execution_count": 97,
     "metadata": {},
     "output_type": "execute_result"
    }
   ],
   "source": [
    "arr=np.arange(16).reshape((2,2,4))\n",
    "arr"
   ]
  },
  {
   "cell_type": "code",
   "execution_count": 98,
   "metadata": {},
   "outputs": [
    {
     "data": {
      "text/plain": [
       "array([[[ 0,  1,  2,  3],\n",
       "        [ 8,  9, 10, 11]],\n",
       "\n",
       "       [[ 4,  5,  6,  7],\n",
       "        [12, 13, 14, 15]]])"
      ]
     },
     "execution_count": 98,
     "metadata": {},
     "output_type": "execute_result"
    }
   ],
   "source": [
    "arr.transpose((1,0,2))"
   ]
  },
  {
   "attachments": {},
   "cell_type": "markdown",
   "metadata": {},
   "source": [
    "第一个轴被换成了第二个，第二个轴被换成了第一个，最后一个轴不变"
   ]
  },
  {
   "cell_type": "code",
   "execution_count": 99,
   "metadata": {},
   "outputs": [
    {
     "data": {
      "text/plain": [
       "array([[0, 5],\n",
       "       [1, 6],\n",
       "       [2, 7],\n",
       "       [3, 8],\n",
       "       [4, 9]])"
      ]
     },
     "execution_count": 99,
     "metadata": {},
     "output_type": "execute_result"
    }
   ],
   "source": [
    "arr=np.arange(10).reshape((2,5))\n",
    "arr.transpose((1,0))"
   ]
  },
  {
   "cell_type": "code",
   "execution_count": 100,
   "metadata": {},
   "outputs": [
    {
     "data": {
      "text/plain": [
       "array([[0.        , 1.        , 1.41421356, 1.73205081, 2.        ],\n",
       "       [2.23606798, 2.44948974, 2.64575131, 2.82842712, 3.        ]])"
      ]
     },
     "execution_count": 100,
     "metadata": {},
     "output_type": "execute_result"
    }
   ],
   "source": [
    "np.sqrt(arr)"
   ]
  },
  {
   "cell_type": "code",
   "execution_count": 101,
   "metadata": {},
   "outputs": [
    {
     "data": {
      "text/plain": [
       "array([[1.00000000e+00, 2.71828183e+00, 7.38905610e+00, 2.00855369e+01,\n",
       "        5.45981500e+01],\n",
       "       [1.48413159e+02, 4.03428793e+02, 1.09663316e+03, 2.98095799e+03,\n",
       "        8.10308393e+03]])"
      ]
     },
     "execution_count": 101,
     "metadata": {},
     "output_type": "execute_result"
    }
   ],
   "source": [
    "np.exp(arr)"
   ]
  },
  {
   "cell_type": "code",
   "execution_count": 107,
   "metadata": {},
   "outputs": [
    {
     "name": "stdout",
     "output_type": "stream",
     "text": [
      "[ 0.23008136 -1.00090341 -0.25866892 -1.3232078  -0.07992165 -1.42805648\n",
      "  0.40067316 -0.78481586] [-0.46605882  1.12886557 -1.45147118 -0.87837332 -1.64362694 -0.78742151\n",
      " -0.95247008  1.40955337]\n",
      "[ True False  True False  True False  True False]\n"
     ]
    },
    {
     "data": {
      "text/plain": [
       "array([ 0.23008136,  1.12886557, -0.25866892, -0.87837332, -0.07992165,\n",
       "       -0.78742151,  0.40067316,  1.40955337])"
      ]
     },
     "execution_count": 107,
     "metadata": {},
     "output_type": "execute_result"
    }
   ],
   "source": [
    "x=np.random.randn(8)\n",
    "y=np.random.randn(8)\n",
    "\n",
    "print(x,y)\n",
    "print(x>y)\n",
    "np.maximum(x,y)"
   ]
  },
  {
   "cell_type": "code",
   "execution_count": 109,
   "metadata": {},
   "outputs": [
    {
     "name": "stdout",
     "output_type": "stream",
     "text": [
      "[-11.61846001  -6.3954705    3.09538232  -0.4087005    0.24493785\n",
      "   9.27032528   7.66229284] [-0.61846001 -0.3954705   0.09538232 -0.4087005   0.24493785  0.27032528\n",
      "  0.66229284] [-11.  -6.   3.  -0.   0.   9.   7.]\n"
     ]
    }
   ],
   "source": [
    "arr=np.random.randn(7)*5\n",
    "remainder,whole_part=np.modf(arr)\n",
    "print(arr,remainder,whole_part)"
   ]
  },
  {
   "cell_type": "code",
   "execution_count": 110,
   "metadata": {},
   "outputs": [
    {
     "name": "stdout",
     "output_type": "stream",
     "text": [
      "[-2.2624499  -2.26258375  5.63443953  2.74191087 -8.1761564  -3.46428167\n",
      " -2.36823031] [       nan        nan 1.72889768 1.00865507        nan        nan\n",
      "        nan]\n"
     ]
    },
    {
     "name": "stderr",
     "output_type": "stream",
     "text": [
      "/var/folders/6l/0rnqwtgd2lqfvr4vcry4xjrc0000gn/T/ipykernel_5561/3339133790.py:2: RuntimeWarning: invalid value encountered in log\n",
      "  print(arr,np.log(arr))\n"
     ]
    }
   ],
   "source": [
    "arr=np.random.randn(7)*5\n",
    "print(arr,np.log(arr))"
   ]
  },
  {
   "cell_type": "code",
   "execution_count": 112,
   "metadata": {},
   "outputs": [
    {
     "data": {
      "text/plain": [
       "array([-1., -1.,  1.,  1., -1., -1., -1.])"
      ]
     },
     "execution_count": 112,
     "metadata": {},
     "output_type": "execute_result"
    }
   ],
   "source": [
    "np.sign(arr)"
   ]
  },
  {
   "cell_type": "code",
   "execution_count": 113,
   "metadata": {},
   "outputs": [
    {
     "data": {
      "text/plain": [
       "array([-2., -2.,  6.,  3., -8., -3., -2.])"
      ]
     },
     "execution_count": 113,
     "metadata": {},
     "output_type": "execute_result"
    }
   ],
   "source": [
    "np.ceil(arr)"
   ]
  },
  {
   "cell_type": "code",
   "execution_count": 114,
   "metadata": {},
   "outputs": [
    {
     "data": {
      "text/plain": [
       "array([-3., -3.,  5.,  2., -9., -4., -3.])"
      ]
     },
     "execution_count": 114,
     "metadata": {},
     "output_type": "execute_result"
    }
   ],
   "source": [
    "np.floor(arr)"
   ]
  },
  {
   "cell_type": "code",
   "execution_count": 115,
   "metadata": {},
   "outputs": [
    {
     "data": {
      "text/plain": [
       "array([-2., -2.,  6.,  3., -8., -3., -2.])"
      ]
     },
     "execution_count": 115,
     "metadata": {},
     "output_type": "execute_result"
    }
   ],
   "source": [
    "np.rint(arr)"
   ]
  },
  {
   "cell_type": "code",
   "execution_count": 116,
   "metadata": {},
   "outputs": [
    {
     "data": {
      "text/plain": [
       "(array([-0.2624499 , -0.26258375,  0.63443953,  0.74191087, -0.1761564 ,\n",
       "        -0.46428167, -0.36823031]),\n",
       " array([-2., -2.,  5.,  2., -8., -3., -2.]))"
      ]
     },
     "execution_count": 116,
     "metadata": {},
     "output_type": "execute_result"
    }
   ],
   "source": [
    "np.modf(arr)"
   ]
  },
  {
   "cell_type": "code",
   "execution_count": 117,
   "metadata": {},
   "outputs": [
    {
     "name": "stderr",
     "output_type": "stream",
     "text": [
      "/var/folders/6l/0rnqwtgd2lqfvr4vcry4xjrc0000gn/T/ipykernel_5561/450973409.py:1: RuntimeWarning: invalid value encountered in log\n",
      "  np.isnan(np.log(arr))\n"
     ]
    },
    {
     "data": {
      "text/plain": [
       "array([ True,  True, False, False,  True,  True,  True])"
      ]
     },
     "execution_count": 117,
     "metadata": {},
     "output_type": "execute_result"
    }
   ],
   "source": [
    "np.isnan(np.log(arr))   "
   ]
  },
  {
   "cell_type": "code",
   "execution_count": 118,
   "metadata": {},
   "outputs": [
    {
     "name": "stderr",
     "output_type": "stream",
     "text": [
      "/var/folders/6l/0rnqwtgd2lqfvr4vcry4xjrc0000gn/T/ipykernel_5561/3519053052.py:1: RuntimeWarning: invalid value encountered in log\n",
      "  np.isfinite(np.log(arr))\n"
     ]
    },
    {
     "data": {
      "text/plain": [
       "array([False, False,  True,  True, False, False, False])"
      ]
     },
     "execution_count": 118,
     "metadata": {},
     "output_type": "execute_result"
    }
   ],
   "source": [
    "np.isfinite(np.log(arr))"
   ]
  },
  {
   "cell_type": "code",
   "execution_count": 119,
   "metadata": {},
   "outputs": [
    {
     "data": {
      "text/plain": [
       "array([-0.63781162, -0.6379147 ,  0.79684221, -0.92118487, -0.31663018,\n",
       "       -0.94838611, -0.71556597])"
      ]
     },
     "execution_count": 119,
     "metadata": {},
     "output_type": "execute_result"
    }
   ],
   "source": [
    "np.cos(arr)"
   ]
  },
  {
   "cell_type": "code",
   "execution_count": 120,
   "metadata": {},
   "outputs": [
    {
     "name": "stderr",
     "output_type": "stream",
     "text": [
      "/var/folders/6l/0rnqwtgd2lqfvr4vcry4xjrc0000gn/T/ipykernel_5561/594118052.py:1: RuntimeWarning: invalid value encountered in arccos\n",
      "  np.arccos(arr)\n"
     ]
    },
    {
     "data": {
      "text/plain": [
       "array([nan, nan, nan, nan, nan, nan, nan])"
      ]
     },
     "execution_count": 120,
     "metadata": {},
     "output_type": "execute_result"
    }
   ],
   "source": [
    "np.arccos(arr)  "
   ]
  },
  {
   "cell_type": "code",
   "execution_count": 121,
   "metadata": {},
   "outputs": [
    {
     "data": {
      "text/plain": [
       "array([False, False, False, False, False, False, False])"
      ]
     },
     "execution_count": 121,
     "metadata": {},
     "output_type": "execute_result"
    }
   ],
   "source": [
    "np.logical_and(arr>0,arr<1)"
   ]
  },
  {
   "cell_type": "code",
   "execution_count": 122,
   "metadata": {},
   "outputs": [
    {
     "name": "stdout",
     "output_type": "stream",
     "text": [
      "[  1.80046043  -0.10993025   2.12350111   3.43173509   3.37708527\n",
      " -11.45640132  -2.65952808] [ 2.45584088  2.34240718  1.26318084 10.65339322  1.20990578  6.8607848\n",
      " -2.51326481]\n"
     ]
    }
   ],
   "source": [
    "arr1=np.random.randn(7)*5\n",
    "arr2=np.random.randn(7)*5\n",
    "print(arr1,arr2)"
   ]
  },
  {
   "cell_type": "code",
   "execution_count": 123,
   "metadata": {},
   "outputs": [
    {
     "data": {
      "text/plain": [
       "array([ 4.2563013 ,  2.23247693,  3.38668195, 14.08512831,  4.58699105,\n",
       "       -4.59561652, -5.17279289])"
      ]
     },
     "execution_count": 123,
     "metadata": {},
     "output_type": "execute_result"
    }
   ],
   "source": [
    "np.add(arr1,arr2)"
   ]
  },
  {
   "cell_type": "code",
   "execution_count": 124,
   "metadata": {},
   "outputs": [
    {
     "data": {
      "text/plain": [
       "array([  4.42164432,  -0.2575014 ,   2.68236592,  36.55962334,\n",
       "         4.08595498, -78.59990406,   6.68409834])"
      ]
     },
     "execution_count": 124,
     "metadata": {},
     "output_type": "execute_result"
    }
   ],
   "source": [
    "np.multiply(arr1,arr2)"
   ]
  },
  {
   "cell_type": "code",
   "execution_count": 125,
   "metadata": {},
   "outputs": [
    {
     "name": "stderr",
     "output_type": "stream",
     "text": [
      "/var/folders/6l/0rnqwtgd2lqfvr4vcry4xjrc0000gn/T/ipykernel_5561/3416830385.py:1: RuntimeWarning: invalid value encountered in power\n",
      "  np.power(arr1,arr2)\n"
     ]
    },
    {
     "data": {
      "text/plain": [
       "array([4.23819990e+00,            nan, 2.58896657e+00, 5.07035785e+05,\n",
       "       4.35999561e+00,            nan,            nan])"
      ]
     },
     "execution_count": 125,
     "metadata": {},
     "output_type": "execute_result"
    }
   ],
   "source": [
    "np.power(arr1,arr2)"
   ]
  },
  {
   "cell_type": "code",
   "execution_count": 126,
   "metadata": {},
   "outputs": [
    {
     "data": {
      "text/plain": [
       "array([ 1.80046043,  0.10993025,  2.12350111,  3.43173509,  3.37708527,\n",
       "       11.45640132, -2.65952808])"
      ]
     },
     "execution_count": 126,
     "metadata": {},
     "output_type": "execute_result"
    }
   ],
   "source": [
    "np.copysign(arr1,arr2)"
   ]
  },
  {
   "cell_type": "code",
   "execution_count": 127,
   "metadata": {},
   "outputs": [
    {
     "name": "stdout",
     "output_type": "stream",
     "text": [
      "[-5.0000000e+00 -4.9900000e+00 -4.9800000e+00 -4.9700000e+00\n",
      " -4.9600000e+00 -4.9500000e+00 -4.9400000e+00 -4.9300000e+00\n",
      " -4.9200000e+00 -4.9100000e+00 -4.9000000e+00 -4.8900000e+00\n",
      " -4.8800000e+00 -4.8700000e+00 -4.8600000e+00 -4.8500000e+00\n",
      " -4.8400000e+00 -4.8300000e+00 -4.8200000e+00 -4.8100000e+00\n",
      " -4.8000000e+00 -4.7900000e+00 -4.7800000e+00 -4.7700000e+00\n",
      " -4.7600000e+00 -4.7500000e+00 -4.7400000e+00 -4.7300000e+00\n",
      " -4.7200000e+00 -4.7100000e+00 -4.7000000e+00 -4.6900000e+00\n",
      " -4.6800000e+00 -4.6700000e+00 -4.6600000e+00 -4.6500000e+00\n",
      " -4.6400000e+00 -4.6300000e+00 -4.6200000e+00 -4.6100000e+00\n",
      " -4.6000000e+00 -4.5900000e+00 -4.5800000e+00 -4.5700000e+00\n",
      " -4.5600000e+00 -4.5500000e+00 -4.5400000e+00 -4.5300000e+00\n",
      " -4.5200000e+00 -4.5100000e+00 -4.5000000e+00 -4.4900000e+00\n",
      " -4.4800000e+00 -4.4700000e+00 -4.4600000e+00 -4.4500000e+00\n",
      " -4.4400000e+00 -4.4300000e+00 -4.4200000e+00 -4.4100000e+00\n",
      " -4.4000000e+00 -4.3900000e+00 -4.3800000e+00 -4.3700000e+00\n",
      " -4.3600000e+00 -4.3500000e+00 -4.3400000e+00 -4.3300000e+00\n",
      " -4.3200000e+00 -4.3100000e+00 -4.3000000e+00 -4.2900000e+00\n",
      " -4.2800000e+00 -4.2700000e+00 -4.2600000e+00 -4.2500000e+00\n",
      " -4.2400000e+00 -4.2300000e+00 -4.2200000e+00 -4.2100000e+00\n",
      " -4.2000000e+00 -4.1900000e+00 -4.1800000e+00 -4.1700000e+00\n",
      " -4.1600000e+00 -4.1500000e+00 -4.1400000e+00 -4.1300000e+00\n",
      " -4.1200000e+00 -4.1100000e+00 -4.1000000e+00 -4.0900000e+00\n",
      " -4.0800000e+00 -4.0700000e+00 -4.0600000e+00 -4.0500000e+00\n",
      " -4.0400000e+00 -4.0300000e+00 -4.0200000e+00 -4.0100000e+00\n",
      " -4.0000000e+00 -3.9900000e+00 -3.9800000e+00 -3.9700000e+00\n",
      " -3.9600000e+00 -3.9500000e+00 -3.9400000e+00 -3.9300000e+00\n",
      " -3.9200000e+00 -3.9100000e+00 -3.9000000e+00 -3.8900000e+00\n",
      " -3.8800000e+00 -3.8700000e+00 -3.8600000e+00 -3.8500000e+00\n",
      " -3.8400000e+00 -3.8300000e+00 -3.8200000e+00 -3.8100000e+00\n",
      " -3.8000000e+00 -3.7900000e+00 -3.7800000e+00 -3.7700000e+00\n",
      " -3.7600000e+00 -3.7500000e+00 -3.7400000e+00 -3.7300000e+00\n",
      " -3.7200000e+00 -3.7100000e+00 -3.7000000e+00 -3.6900000e+00\n",
      " -3.6800000e+00 -3.6700000e+00 -3.6600000e+00 -3.6500000e+00\n",
      " -3.6400000e+00 -3.6300000e+00 -3.6200000e+00 -3.6100000e+00\n",
      " -3.6000000e+00 -3.5900000e+00 -3.5800000e+00 -3.5700000e+00\n",
      " -3.5600000e+00 -3.5500000e+00 -3.5400000e+00 -3.5300000e+00\n",
      " -3.5200000e+00 -3.5100000e+00 -3.5000000e+00 -3.4900000e+00\n",
      " -3.4800000e+00 -3.4700000e+00 -3.4600000e+00 -3.4500000e+00\n",
      " -3.4400000e+00 -3.4300000e+00 -3.4200000e+00 -3.4100000e+00\n",
      " -3.4000000e+00 -3.3900000e+00 -3.3800000e+00 -3.3700000e+00\n",
      " -3.3600000e+00 -3.3500000e+00 -3.3400000e+00 -3.3300000e+00\n",
      " -3.3200000e+00 -3.3100000e+00 -3.3000000e+00 -3.2900000e+00\n",
      " -3.2800000e+00 -3.2700000e+00 -3.2600000e+00 -3.2500000e+00\n",
      " -3.2400000e+00 -3.2300000e+00 -3.2200000e+00 -3.2100000e+00\n",
      " -3.2000000e+00 -3.1900000e+00 -3.1800000e+00 -3.1700000e+00\n",
      " -3.1600000e+00 -3.1500000e+00 -3.1400000e+00 -3.1300000e+00\n",
      " -3.1200000e+00 -3.1100000e+00 -3.1000000e+00 -3.0900000e+00\n",
      " -3.0800000e+00 -3.0700000e+00 -3.0600000e+00 -3.0500000e+00\n",
      " -3.0400000e+00 -3.0300000e+00 -3.0200000e+00 -3.0100000e+00\n",
      " -3.0000000e+00 -2.9900000e+00 -2.9800000e+00 -2.9700000e+00\n",
      " -2.9600000e+00 -2.9500000e+00 -2.9400000e+00 -2.9300000e+00\n",
      " -2.9200000e+00 -2.9100000e+00 -2.9000000e+00 -2.8900000e+00\n",
      " -2.8800000e+00 -2.8700000e+00 -2.8600000e+00 -2.8500000e+00\n",
      " -2.8400000e+00 -2.8300000e+00 -2.8200000e+00 -2.8100000e+00\n",
      " -2.8000000e+00 -2.7900000e+00 -2.7800000e+00 -2.7700000e+00\n",
      " -2.7600000e+00 -2.7500000e+00 -2.7400000e+00 -2.7300000e+00\n",
      " -2.7200000e+00 -2.7100000e+00 -2.7000000e+00 -2.6900000e+00\n",
      " -2.6800000e+00 -2.6700000e+00 -2.6600000e+00 -2.6500000e+00\n",
      " -2.6400000e+00 -2.6300000e+00 -2.6200000e+00 -2.6100000e+00\n",
      " -2.6000000e+00 -2.5900000e+00 -2.5800000e+00 -2.5700000e+00\n",
      " -2.5600000e+00 -2.5500000e+00 -2.5400000e+00 -2.5300000e+00\n",
      " -2.5200000e+00 -2.5100000e+00 -2.5000000e+00 -2.4900000e+00\n",
      " -2.4800000e+00 -2.4700000e+00 -2.4600000e+00 -2.4500000e+00\n",
      " -2.4400000e+00 -2.4300000e+00 -2.4200000e+00 -2.4100000e+00\n",
      " -2.4000000e+00 -2.3900000e+00 -2.3800000e+00 -2.3700000e+00\n",
      " -2.3600000e+00 -2.3500000e+00 -2.3400000e+00 -2.3300000e+00\n",
      " -2.3200000e+00 -2.3100000e+00 -2.3000000e+00 -2.2900000e+00\n",
      " -2.2800000e+00 -2.2700000e+00 -2.2600000e+00 -2.2500000e+00\n",
      " -2.2400000e+00 -2.2300000e+00 -2.2200000e+00 -2.2100000e+00\n",
      " -2.2000000e+00 -2.1900000e+00 -2.1800000e+00 -2.1700000e+00\n",
      " -2.1600000e+00 -2.1500000e+00 -2.1400000e+00 -2.1300000e+00\n",
      " -2.1200000e+00 -2.1100000e+00 -2.1000000e+00 -2.0900000e+00\n",
      " -2.0800000e+00 -2.0700000e+00 -2.0600000e+00 -2.0500000e+00\n",
      " -2.0400000e+00 -2.0300000e+00 -2.0200000e+00 -2.0100000e+00\n",
      " -2.0000000e+00 -1.9900000e+00 -1.9800000e+00 -1.9700000e+00\n",
      " -1.9600000e+00 -1.9500000e+00 -1.9400000e+00 -1.9300000e+00\n",
      " -1.9200000e+00 -1.9100000e+00 -1.9000000e+00 -1.8900000e+00\n",
      " -1.8800000e+00 -1.8700000e+00 -1.8600000e+00 -1.8500000e+00\n",
      " -1.8400000e+00 -1.8300000e+00 -1.8200000e+00 -1.8100000e+00\n",
      " -1.8000000e+00 -1.7900000e+00 -1.7800000e+00 -1.7700000e+00\n",
      " -1.7600000e+00 -1.7500000e+00 -1.7400000e+00 -1.7300000e+00\n",
      " -1.7200000e+00 -1.7100000e+00 -1.7000000e+00 -1.6900000e+00\n",
      " -1.6800000e+00 -1.6700000e+00 -1.6600000e+00 -1.6500000e+00\n",
      " -1.6400000e+00 -1.6300000e+00 -1.6200000e+00 -1.6100000e+00\n",
      " -1.6000000e+00 -1.5900000e+00 -1.5800000e+00 -1.5700000e+00\n",
      " -1.5600000e+00 -1.5500000e+00 -1.5400000e+00 -1.5300000e+00\n",
      " -1.5200000e+00 -1.5100000e+00 -1.5000000e+00 -1.4900000e+00\n",
      " -1.4800000e+00 -1.4700000e+00 -1.4600000e+00 -1.4500000e+00\n",
      " -1.4400000e+00 -1.4300000e+00 -1.4200000e+00 -1.4100000e+00\n",
      " -1.4000000e+00 -1.3900000e+00 -1.3800000e+00 -1.3700000e+00\n",
      " -1.3600000e+00 -1.3500000e+00 -1.3400000e+00 -1.3300000e+00\n",
      " -1.3200000e+00 -1.3100000e+00 -1.3000000e+00 -1.2900000e+00\n",
      " -1.2800000e+00 -1.2700000e+00 -1.2600000e+00 -1.2500000e+00\n",
      " -1.2400000e+00 -1.2300000e+00 -1.2200000e+00 -1.2100000e+00\n",
      " -1.2000000e+00 -1.1900000e+00 -1.1800000e+00 -1.1700000e+00\n",
      " -1.1600000e+00 -1.1500000e+00 -1.1400000e+00 -1.1300000e+00\n",
      " -1.1200000e+00 -1.1100000e+00 -1.1000000e+00 -1.0900000e+00\n",
      " -1.0800000e+00 -1.0700000e+00 -1.0600000e+00 -1.0500000e+00\n",
      " -1.0400000e+00 -1.0300000e+00 -1.0200000e+00 -1.0100000e+00\n",
      " -1.0000000e+00 -9.9000000e-01 -9.8000000e-01 -9.7000000e-01\n",
      " -9.6000000e-01 -9.5000000e-01 -9.4000000e-01 -9.3000000e-01\n",
      " -9.2000000e-01 -9.1000000e-01 -9.0000000e-01 -8.9000000e-01\n",
      " -8.8000000e-01 -8.7000000e-01 -8.6000000e-01 -8.5000000e-01\n",
      " -8.4000000e-01 -8.3000000e-01 -8.2000000e-01 -8.1000000e-01\n",
      " -8.0000000e-01 -7.9000000e-01 -7.8000000e-01 -7.7000000e-01\n",
      " -7.6000000e-01 -7.5000000e-01 -7.4000000e-01 -7.3000000e-01\n",
      " -7.2000000e-01 -7.1000000e-01 -7.0000000e-01 -6.9000000e-01\n",
      " -6.8000000e-01 -6.7000000e-01 -6.6000000e-01 -6.5000000e-01\n",
      " -6.4000000e-01 -6.3000000e-01 -6.2000000e-01 -6.1000000e-01\n",
      " -6.0000000e-01 -5.9000000e-01 -5.8000000e-01 -5.7000000e-01\n",
      " -5.6000000e-01 -5.5000000e-01 -5.4000000e-01 -5.3000000e-01\n",
      " -5.2000000e-01 -5.1000000e-01 -5.0000000e-01 -4.9000000e-01\n",
      " -4.8000000e-01 -4.7000000e-01 -4.6000000e-01 -4.5000000e-01\n",
      " -4.4000000e-01 -4.3000000e-01 -4.2000000e-01 -4.1000000e-01\n",
      " -4.0000000e-01 -3.9000000e-01 -3.8000000e-01 -3.7000000e-01\n",
      " -3.6000000e-01 -3.5000000e-01 -3.4000000e-01 -3.3000000e-01\n",
      " -3.2000000e-01 -3.1000000e-01 -3.0000000e-01 -2.9000000e-01\n",
      " -2.8000000e-01 -2.7000000e-01 -2.6000000e-01 -2.5000000e-01\n",
      " -2.4000000e-01 -2.3000000e-01 -2.2000000e-01 -2.1000000e-01\n",
      " -2.0000000e-01 -1.9000000e-01 -1.8000000e-01 -1.7000000e-01\n",
      " -1.6000000e-01 -1.5000000e-01 -1.4000000e-01 -1.3000000e-01\n",
      " -1.2000000e-01 -1.1000000e-01 -1.0000000e-01 -9.0000000e-02\n",
      " -8.0000000e-02 -7.0000000e-02 -6.0000000e-02 -5.0000000e-02\n",
      " -4.0000000e-02 -3.0000000e-02 -2.0000000e-02 -1.0000000e-02\n",
      " -1.0658141e-13  1.0000000e-02  2.0000000e-02  3.0000000e-02\n",
      "  4.0000000e-02  5.0000000e-02  6.0000000e-02  7.0000000e-02\n",
      "  8.0000000e-02  9.0000000e-02  1.0000000e-01  1.1000000e-01\n",
      "  1.2000000e-01  1.3000000e-01  1.4000000e-01  1.5000000e-01\n",
      "  1.6000000e-01  1.7000000e-01  1.8000000e-01  1.9000000e-01\n",
      "  2.0000000e-01  2.1000000e-01  2.2000000e-01  2.3000000e-01\n",
      "  2.4000000e-01  2.5000000e-01  2.6000000e-01  2.7000000e-01\n",
      "  2.8000000e-01  2.9000000e-01  3.0000000e-01  3.1000000e-01\n",
      "  3.2000000e-01  3.3000000e-01  3.4000000e-01  3.5000000e-01\n",
      "  3.6000000e-01  3.7000000e-01  3.8000000e-01  3.9000000e-01\n",
      "  4.0000000e-01  4.1000000e-01  4.2000000e-01  4.3000000e-01\n",
      "  4.4000000e-01  4.5000000e-01  4.6000000e-01  4.7000000e-01\n",
      "  4.8000000e-01  4.9000000e-01  5.0000000e-01  5.1000000e-01\n",
      "  5.2000000e-01  5.3000000e-01  5.4000000e-01  5.5000000e-01\n",
      "  5.6000000e-01  5.7000000e-01  5.8000000e-01  5.9000000e-01\n",
      "  6.0000000e-01  6.1000000e-01  6.2000000e-01  6.3000000e-01\n",
      "  6.4000000e-01  6.5000000e-01  6.6000000e-01  6.7000000e-01\n",
      "  6.8000000e-01  6.9000000e-01  7.0000000e-01  7.1000000e-01\n",
      "  7.2000000e-01  7.3000000e-01  7.4000000e-01  7.5000000e-01\n",
      "  7.6000000e-01  7.7000000e-01  7.8000000e-01  7.9000000e-01\n",
      "  8.0000000e-01  8.1000000e-01  8.2000000e-01  8.3000000e-01\n",
      "  8.4000000e-01  8.5000000e-01  8.6000000e-01  8.7000000e-01\n",
      "  8.8000000e-01  8.9000000e-01  9.0000000e-01  9.1000000e-01\n",
      "  9.2000000e-01  9.3000000e-01  9.4000000e-01  9.5000000e-01\n",
      "  9.6000000e-01  9.7000000e-01  9.8000000e-01  9.9000000e-01\n",
      "  1.0000000e+00  1.0100000e+00  1.0200000e+00  1.0300000e+00\n",
      "  1.0400000e+00  1.0500000e+00  1.0600000e+00  1.0700000e+00\n",
      "  1.0800000e+00  1.0900000e+00  1.1000000e+00  1.1100000e+00\n",
      "  1.1200000e+00  1.1300000e+00  1.1400000e+00  1.1500000e+00\n",
      "  1.1600000e+00  1.1700000e+00  1.1800000e+00  1.1900000e+00\n",
      "  1.2000000e+00  1.2100000e+00  1.2200000e+00  1.2300000e+00\n",
      "  1.2400000e+00  1.2500000e+00  1.2600000e+00  1.2700000e+00\n",
      "  1.2800000e+00  1.2900000e+00  1.3000000e+00  1.3100000e+00\n",
      "  1.3200000e+00  1.3300000e+00  1.3400000e+00  1.3500000e+00\n",
      "  1.3600000e+00  1.3700000e+00  1.3800000e+00  1.3900000e+00\n",
      "  1.4000000e+00  1.4100000e+00  1.4200000e+00  1.4300000e+00\n",
      "  1.4400000e+00  1.4500000e+00  1.4600000e+00  1.4700000e+00\n",
      "  1.4800000e+00  1.4900000e+00  1.5000000e+00  1.5100000e+00\n",
      "  1.5200000e+00  1.5300000e+00  1.5400000e+00  1.5500000e+00\n",
      "  1.5600000e+00  1.5700000e+00  1.5800000e+00  1.5900000e+00\n",
      "  1.6000000e+00  1.6100000e+00  1.6200000e+00  1.6300000e+00\n",
      "  1.6400000e+00  1.6500000e+00  1.6600000e+00  1.6700000e+00\n",
      "  1.6800000e+00  1.6900000e+00  1.7000000e+00  1.7100000e+00\n",
      "  1.7200000e+00  1.7300000e+00  1.7400000e+00  1.7500000e+00\n",
      "  1.7600000e+00  1.7700000e+00  1.7800000e+00  1.7900000e+00\n",
      "  1.8000000e+00  1.8100000e+00  1.8200000e+00  1.8300000e+00\n",
      "  1.8400000e+00  1.8500000e+00  1.8600000e+00  1.8700000e+00\n",
      "  1.8800000e+00  1.8900000e+00  1.9000000e+00  1.9100000e+00\n",
      "  1.9200000e+00  1.9300000e+00  1.9400000e+00  1.9500000e+00\n",
      "  1.9600000e+00  1.9700000e+00  1.9800000e+00  1.9900000e+00\n",
      "  2.0000000e+00  2.0100000e+00  2.0200000e+00  2.0300000e+00\n",
      "  2.0400000e+00  2.0500000e+00  2.0600000e+00  2.0700000e+00\n",
      "  2.0800000e+00  2.0900000e+00  2.1000000e+00  2.1100000e+00\n",
      "  2.1200000e+00  2.1300000e+00  2.1400000e+00  2.1500000e+00\n",
      "  2.1600000e+00  2.1700000e+00  2.1800000e+00  2.1900000e+00\n",
      "  2.2000000e+00  2.2100000e+00  2.2200000e+00  2.2300000e+00\n",
      "  2.2400000e+00  2.2500000e+00  2.2600000e+00  2.2700000e+00\n",
      "  2.2800000e+00  2.2900000e+00  2.3000000e+00  2.3100000e+00\n",
      "  2.3200000e+00  2.3300000e+00  2.3400000e+00  2.3500000e+00\n",
      "  2.3600000e+00  2.3700000e+00  2.3800000e+00  2.3900000e+00\n",
      "  2.4000000e+00  2.4100000e+00  2.4200000e+00  2.4300000e+00\n",
      "  2.4400000e+00  2.4500000e+00  2.4600000e+00  2.4700000e+00\n",
      "  2.4800000e+00  2.4900000e+00  2.5000000e+00  2.5100000e+00\n",
      "  2.5200000e+00  2.5300000e+00  2.5400000e+00  2.5500000e+00\n",
      "  2.5600000e+00  2.5700000e+00  2.5800000e+00  2.5900000e+00\n",
      "  2.6000000e+00  2.6100000e+00  2.6200000e+00  2.6300000e+00\n",
      "  2.6400000e+00  2.6500000e+00  2.6600000e+00  2.6700000e+00\n",
      "  2.6800000e+00  2.6900000e+00  2.7000000e+00  2.7100000e+00\n",
      "  2.7200000e+00  2.7300000e+00  2.7400000e+00  2.7500000e+00\n",
      "  2.7600000e+00  2.7700000e+00  2.7800000e+00  2.7900000e+00\n",
      "  2.8000000e+00  2.8100000e+00  2.8200000e+00  2.8300000e+00\n",
      "  2.8400000e+00  2.8500000e+00  2.8600000e+00  2.8700000e+00\n",
      "  2.8800000e+00  2.8900000e+00  2.9000000e+00  2.9100000e+00\n",
      "  2.9200000e+00  2.9300000e+00  2.9400000e+00  2.9500000e+00\n",
      "  2.9600000e+00  2.9700000e+00  2.9800000e+00  2.9900000e+00\n",
      "  3.0000000e+00  3.0100000e+00  3.0200000e+00  3.0300000e+00\n",
      "  3.0400000e+00  3.0500000e+00  3.0600000e+00  3.0700000e+00\n",
      "  3.0800000e+00  3.0900000e+00  3.1000000e+00  3.1100000e+00\n",
      "  3.1200000e+00  3.1300000e+00  3.1400000e+00  3.1500000e+00\n",
      "  3.1600000e+00  3.1700000e+00  3.1800000e+00  3.1900000e+00\n",
      "  3.2000000e+00  3.2100000e+00  3.2200000e+00  3.2300000e+00\n",
      "  3.2400000e+00  3.2500000e+00  3.2600000e+00  3.2700000e+00\n",
      "  3.2800000e+00  3.2900000e+00  3.3000000e+00  3.3100000e+00\n",
      "  3.3200000e+00  3.3300000e+00  3.3400000e+00  3.3500000e+00\n",
      "  3.3600000e+00  3.3700000e+00  3.3800000e+00  3.3900000e+00\n",
      "  3.4000000e+00  3.4100000e+00  3.4200000e+00  3.4300000e+00\n",
      "  3.4400000e+00  3.4500000e+00  3.4600000e+00  3.4700000e+00\n",
      "  3.4800000e+00  3.4900000e+00  3.5000000e+00  3.5100000e+00\n",
      "  3.5200000e+00  3.5300000e+00  3.5400000e+00  3.5500000e+00\n",
      "  3.5600000e+00  3.5700000e+00  3.5800000e+00  3.5900000e+00\n",
      "  3.6000000e+00  3.6100000e+00  3.6200000e+00  3.6300000e+00\n",
      "  3.6400000e+00  3.6500000e+00  3.6600000e+00  3.6700000e+00\n",
      "  3.6800000e+00  3.6900000e+00  3.7000000e+00  3.7100000e+00\n",
      "  3.7200000e+00  3.7300000e+00  3.7400000e+00  3.7500000e+00\n",
      "  3.7600000e+00  3.7700000e+00  3.7800000e+00  3.7900000e+00\n",
      "  3.8000000e+00  3.8100000e+00  3.8200000e+00  3.8300000e+00\n",
      "  3.8400000e+00  3.8500000e+00  3.8600000e+00  3.8700000e+00\n",
      "  3.8800000e+00  3.8900000e+00  3.9000000e+00  3.9100000e+00\n",
      "  3.9200000e+00  3.9300000e+00  3.9400000e+00  3.9500000e+00\n",
      "  3.9600000e+00  3.9700000e+00  3.9800000e+00  3.9900000e+00\n",
      "  4.0000000e+00  4.0100000e+00  4.0200000e+00  4.0300000e+00\n",
      "  4.0400000e+00  4.0500000e+00  4.0600000e+00  4.0700000e+00\n",
      "  4.0800000e+00  4.0900000e+00  4.1000000e+00  4.1100000e+00\n",
      "  4.1200000e+00  4.1300000e+00  4.1400000e+00  4.1500000e+00\n",
      "  4.1600000e+00  4.1700000e+00  4.1800000e+00  4.1900000e+00\n",
      "  4.2000000e+00  4.2100000e+00  4.2200000e+00  4.2300000e+00\n",
      "  4.2400000e+00  4.2500000e+00  4.2600000e+00  4.2700000e+00\n",
      "  4.2800000e+00  4.2900000e+00  4.3000000e+00  4.3100000e+00\n",
      "  4.3200000e+00  4.3300000e+00  4.3400000e+00  4.3500000e+00\n",
      "  4.3600000e+00  4.3700000e+00  4.3800000e+00  4.3900000e+00\n",
      "  4.4000000e+00  4.4100000e+00  4.4200000e+00  4.4300000e+00\n",
      "  4.4400000e+00  4.4500000e+00  4.4600000e+00  4.4700000e+00\n",
      "  4.4800000e+00  4.4900000e+00  4.5000000e+00  4.5100000e+00\n",
      "  4.5200000e+00  4.5300000e+00  4.5400000e+00  4.5500000e+00\n",
      "  4.5600000e+00  4.5700000e+00  4.5800000e+00  4.5900000e+00\n",
      "  4.6000000e+00  4.6100000e+00  4.6200000e+00  4.6300000e+00\n",
      "  4.6400000e+00  4.6500000e+00  4.6600000e+00  4.6700000e+00\n",
      "  4.6800000e+00  4.6900000e+00  4.7000000e+00  4.7100000e+00\n",
      "  4.7200000e+00  4.7300000e+00  4.7400000e+00  4.7500000e+00\n",
      "  4.7600000e+00  4.7700000e+00  4.7800000e+00  4.7900000e+00\n",
      "  4.8000000e+00  4.8100000e+00  4.8200000e+00  4.8300000e+00\n",
      "  4.8400000e+00  4.8500000e+00  4.8600000e+00  4.8700000e+00\n",
      "  4.8800000e+00  4.8900000e+00  4.9000000e+00  4.9100000e+00\n",
      "  4.9200000e+00  4.9300000e+00  4.9400000e+00  4.9500000e+00\n",
      "  4.9600000e+00  4.9700000e+00  4.9800000e+00  4.9900000e+00] [[-5.   -4.99 -4.98 ...  4.97  4.98  4.99]\n",
      " [-5.   -4.99 -4.98 ...  4.97  4.98  4.99]\n",
      " [-5.   -4.99 -4.98 ...  4.97  4.98  4.99]\n",
      " ...\n",
      " [-5.   -4.99 -4.98 ...  4.97  4.98  4.99]\n",
      " [-5.   -4.99 -4.98 ...  4.97  4.98  4.99]\n",
      " [-5.   -4.99 -4.98 ...  4.97  4.98  4.99]] [[-5.   -5.   -5.   ... -5.   -5.   -5.  ]\n",
      " [-4.99 -4.99 -4.99 ... -4.99 -4.99 -4.99]\n",
      " [-4.98 -4.98 -4.98 ... -4.98 -4.98 -4.98]\n",
      " ...\n",
      " [ 4.97  4.97  4.97 ...  4.97  4.97  4.97]\n",
      " [ 4.98  4.98  4.98 ...  4.98  4.98  4.98]\n",
      " [ 4.99  4.99  4.99 ...  4.99  4.99  4.99]]\n"
     ]
    }
   ],
   "source": [
    "points=np.arange(-5,5,0.01)\n",
    "xs,ys=np.meshgrid(points,points)\n",
    "print(points,xs,ys)"
   ]
  },
  {
   "cell_type": "code",
   "execution_count": 129,
   "metadata": {},
   "outputs": [
    {
     "data": {
      "text/plain": [
       "array([[7.07106781, 7.06400028, 7.05693985, ..., 7.04988652, 7.05693985,\n",
       "        7.06400028],\n",
       "       [7.06400028, 7.05692568, 7.04985815, ..., 7.04279774, 7.04985815,\n",
       "        7.05692568],\n",
       "       [7.05693985, 7.04985815, 7.04278354, ..., 7.03571603, 7.04278354,\n",
       "        7.04985815],\n",
       "       ...,\n",
       "       [7.04988652, 7.04279774, 7.03571603, ..., 7.0286414 , 7.03571603,\n",
       "        7.04279774],\n",
       "       [7.05693985, 7.04985815, 7.04278354, ..., 7.03571603, 7.04278354,\n",
       "        7.04985815],\n",
       "       [7.06400028, 7.05692568, 7.04985815, ..., 7.04279774, 7.04985815,\n",
       "        7.05692568]])"
      ]
     },
     "execution_count": 129,
     "metadata": {},
     "output_type": "execute_result"
    }
   ],
   "source": [
    "z=np.sqrt(xs**2+ys**2)\n",
    "z"
   ]
  },
  {
   "cell_type": "code",
   "execution_count": 130,
   "metadata": {},
   "outputs": [
    {
     "data": {
      "image/png": "[encoded data removed]",
      "text/plain": [
       "<Figure size 640x480 with 2 Axes>"
      ]
     },
     "metadata": {},
     "output_type": "display_data"
    }
   ],
   "source": [
    "import matplotlib.pyplot as plt\n",
    "plt.imshow(z,cmap=plt.cm.gray);plt.colorbar()\n",
    "plt.title(\"Image plot of $\\sqrt{x^2+y^2}$ for a grid of values\")\n",
    "plt.show()"
   ]
  },
  {
   "cell_type": "code",
   "execution_count": 131,
   "metadata": {},
   "outputs": [],
   "source": [
    "xa=np.array([1.1,1.2,1.3,1.4,1.5])\n",
    "ya=np.array([2.1,2.2,2.3,2.4,2.5])\n",
    "cond=np.array([True,False,True,True,False])"
   ]
  },
  {
   "cell_type": "code",
   "execution_count": 135,
   "metadata": {},
   "outputs": [
    {
     "name": "stdout",
     "output_type": "stream",
     "text": [
      "(1.1, 2.1, True)\n",
      "(1.2, 2.2, False)\n",
      "(1.3, 2.3, True)\n",
      "(1.4, 2.4, True)\n",
      "(1.5, 2.5, False)\n"
     ]
    }
   ],
   "source": [
    "zip(xa,ya,cond)\n",
    "for x in zip(xa,ya,cond):\n",
    "    print(x)"
   ]
  },
  {
   "cell_type": "code",
   "execution_count": 132,
   "metadata": {},
   "outputs": [],
   "source": [
    "result=[(x if c else y) for x,y,c in zip(xa,ya,cond)]"
   ]
  },
  {
   "cell_type": "code",
   "execution_count": 133,
   "metadata": {},
   "outputs": [
    {
     "data": {
      "text/plain": [
       "[1.1, 2.2, 1.3, 1.4, 2.5]"
      ]
     },
     "execution_count": 133,
     "metadata": {},
     "output_type": "execute_result"
    }
   ],
   "source": [
    "result"
   ]
  },
  {
   "cell_type": "code",
   "execution_count": 137,
   "metadata": {},
   "outputs": [
    {
     "data": {
      "text/plain": [
       "array([1.1, 2.2, 1.3, 1.4, 2.5])"
      ]
     },
     "execution_count": 137,
     "metadata": {},
     "output_type": "execute_result"
    }
   ],
   "source": [
    "result=np.where(cond,xa,ya)\n",
    "result"
   ]
  },
  {
   "cell_type": "code",
   "execution_count": 146,
   "metadata": {},
   "outputs": [
    {
     "data": {
      "text/plain": [
       "array([[ 2.        ,  2.        , -0.00373067,  2.        ],\n",
       "       [ 2.        , -0.43016304,  2.        ,  2.        ],\n",
       "       [ 2.        ,  2.        , -0.31698906, -0.09931304],\n",
       "       [-0.08826773,  2.        , -1.56763944,  2.        ]])"
      ]
     },
     "execution_count": 146,
     "metadata": {},
     "output_type": "execute_result"
    }
   ],
   "source": [
    "arr=np.random.randn(4,4)\n",
    "arr=np.where(arr>0,2,arr)\n",
    "arr"
   ]
  },
  {
   "cell_type": "code",
   "execution_count": 147,
   "metadata": {},
   "outputs": [
    {
     "data": {
      "text/plain": [
       "1.0933685639366217"
      ]
     },
     "execution_count": 147,
     "metadata": {},
     "output_type": "execute_result"
    }
   ],
   "source": [
    "arr.mean()"
   ]
  },
  {
   "cell_type": "code",
   "execution_count": 148,
   "metadata": {},
   "outputs": [
    {
     "data": {
      "text/plain": [
       "17.493897022985948"
      ]
     },
     "execution_count": 148,
     "metadata": {},
     "output_type": "execute_result"
    }
   ],
   "source": [
    "arr.sum()"
   ]
  },
  {
   "cell_type": "code",
   "execution_count": 152,
   "metadata": {},
   "outputs": [
    {
     "data": {
      "text/plain": [
       "array([[ 0,  1,  3],\n",
       "       [ 3,  7, 12],\n",
       "       [ 6, 13, 21]])"
      ]
     },
     "execution_count": 152,
     "metadata": {},
     "output_type": "execute_result"
    }
   ],
   "source": [
    "arr=np.array([[0,1,2],[3,4,5],[6,7,8]])\n",
    "arr.cumsum(1)"
   ]
  },
  {
   "cell_type": "code",
   "execution_count": 153,
   "metadata": {},
   "outputs": [
    {
     "data": {
      "text/plain": [
       "2.581988897471611"
      ]
     },
     "execution_count": 153,
     "metadata": {},
     "output_type": "execute_result"
    }
   ],
   "source": [
    "arr.std()"
   ]
  },
  {
   "cell_type": "code",
   "execution_count": 158,
   "metadata": {},
   "outputs": [
    {
     "data": {
      "text/plain": [
       "6.666666666666667"
      ]
     },
     "execution_count": 158,
     "metadata": {},
     "output_type": "execute_result"
    }
   ],
   "source": [
    "arr.var()"
   ]
  },
  {
   "cell_type": "code",
   "execution_count": 159,
   "metadata": {},
   "outputs": [
    {
     "data": {
      "text/plain": [
       "True"
      ]
     },
     "execution_count": 159,
     "metadata": {},
     "output_type": "execute_result"
    }
   ],
   "source": [
    "bools=np.array([False,False,True,False])\n",
    "bools.any()"
   ]
  },
  {
   "cell_type": "code",
   "execution_count": 160,
   "metadata": {},
   "outputs": [
    {
     "data": {
      "text/plain": [
       "False"
      ]
     },
     "execution_count": 160,
     "metadata": {},
     "output_type": "execute_result"
    }
   ],
   "source": [
    "bools.all()"
   ]
  },
  {
   "cell_type": "code",
   "execution_count": 163,
   "metadata": {},
   "outputs": [
    {
     "data": {
      "text/plain": [
       "array([[-1.10875491, -0.16799349,  0.66810564,  1.95275492],\n",
       "       [-1.0829572 , -0.1215186 ,  0.41321857,  2.06619844],\n",
       "       [-1.36050143, -0.14645073,  0.61508575,  1.07187407],\n",
       "       [-1.66595737,  0.47336039,  0.74436736,  1.14982828],\n",
       "       [-0.73264533, -0.17918987,  0.99729802,  1.19569708],\n",
       "       [-1.01063992,  1.11680623,  1.319891  ,  1.35585642]])"
      ]
     },
     "execution_count": 163,
     "metadata": {},
     "output_type": "execute_result"
    }
   ],
   "source": [
    "arr=np.random.randn(6,4)\n",
    "arr.sort()\n",
    "arr"
   ]
  },
  {
   "cell_type": "code",
   "execution_count": 164,
   "metadata": {},
   "outputs": [
    {
     "data": {
      "text/plain": [
       "array(['Bob', 'Joe', 'Will'], dtype='<U4')"
      ]
     },
     "execution_count": 164,
     "metadata": {},
     "output_type": "execute_result"
    }
   ],
   "source": [
    "names=np.array(['Bob','Joe','Will','Bob','Will','Joe','Joe'])\n",
    "np.unique(names)"
   ]
  },
  {
   "cell_type": "code",
   "execution_count": 165,
   "metadata": {},
   "outputs": [
    {
     "data": {
      "text/plain": [
       "array([1, 2, 3, 4])"
      ]
     },
     "execution_count": 165,
     "metadata": {},
     "output_type": "execute_result"
    }
   ],
   "source": [
    "ints=np.array([3,3,3,2,2,1,1,4,4])\n",
    "np.unique(ints)"
   ]
  },
  {
   "cell_type": "code",
   "execution_count": 166,
   "metadata": {},
   "outputs": [
    {
     "data": {
      "text/plain": [
       "['Bob', 'Joe', 'Will']"
      ]
     },
     "execution_count": 166,
     "metadata": {},
     "output_type": "execute_result"
    }
   ],
   "source": [
    "sorted(set(names))"
   ]
  },
  {
   "cell_type": "code",
   "execution_count": 167,
   "metadata": {},
   "outputs": [],
   "source": [
    "arr=np.arange(10)\n",
    "np.save('some_array',arr)"
   ]
  },
  {
   "cell_type": "code",
   "execution_count": 169,
   "metadata": {},
   "outputs": [
    {
     "data": {
      "text/plain": [
       "array([0, 1, 2, 3, 4, 5, 6, 7, 8, 9])"
      ]
     },
     "execution_count": 169,
     "metadata": {},
     "output_type": "execute_result"
    }
   ],
   "source": [
    "arr=np.load('some_array.npy')\n",
    "arr"
   ]
  },
  {
   "cell_type": "code",
   "execution_count": 170,
   "metadata": {},
   "outputs": [
    {
     "data": {
      "text/plain": [
       "array([0, 1, 2, 3, 4, 5, 6, 7, 8, 9])"
      ]
     },
     "execution_count": 170,
     "metadata": {},
     "output_type": "execute_result"
    }
   ],
   "source": [
    "np.savez('array_archive.npz',a=arr,b=arr)\n",
    "arch=np.load('array_archive.npz')\n",
    "arch['b']"
   ]
  },
  {
   "cell_type": "code",
   "execution_count": 174,
   "metadata": {},
   "outputs": [
    {
     "data": {
      "text/plain": [
       "array([[1., 2., 3.],\n",
       "       [4., 5., 6.]])"
      ]
     },
     "execution_count": 174,
     "metadata": {},
     "output_type": "execute_result"
    }
   ],
   "source": [
    "x=np.array([[1.,2.,3.],[4.,5.,6.]])\n",
    "y=np.array([[6.,23.],[-1,7],[8,9]])\n",
    "x"
   ]
  },
  {
   "cell_type": "code",
   "execution_count": 172,
   "metadata": {},
   "outputs": [
    {
     "data": {
      "text/plain": [
       "array([[ 28.,  64.],\n",
       "       [ 67., 181.]])"
      ]
     },
     "execution_count": 172,
     "metadata": {},
     "output_type": "execute_result"
    }
   ],
   "source": [
    "x.dot(y)"
   ]
  },
  {
   "cell_type": "code",
   "execution_count": 173,
   "metadata": {},
   "outputs": [
    {
     "data": {
      "text/plain": [
       "array([ 6., 15.])"
      ]
     },
     "execution_count": 173,
     "metadata": {},
     "output_type": "execute_result"
    }
   ],
   "source": [
    "np.dot(x,np.ones(3))"
   ]
  },
  {
   "cell_type": "code",
   "execution_count": 175,
   "metadata": {},
   "outputs": [
    {
     "data": {
      "text/plain": [
       "array([ 6., 15.])"
      ]
     },
     "execution_count": 175,
     "metadata": {},
     "output_type": "execute_result"
    }
   ],
   "source": [
    "x @ np.ones(3)"
   ]
  },
  {
   "cell_type": "code",
   "execution_count": 177,
   "metadata": {},
   "outputs": [],
   "source": [
    "from numpy.linalg import inv,qr"
   ]
  },
  {
   "cell_type": "code",
   "execution_count": 178,
   "metadata": {},
   "outputs": [
    {
     "data": {
      "text/plain": [
       "array([[ 2.3538608 , -8.43472194, -7.48787983, -0.85869783, -2.02107011],\n",
       "       [-8.43472194, 33.92718494, 30.68388922,  3.47746385,  8.02935924],\n",
       "       [-7.48787983, 30.68388922, 28.50731165,  3.43486493,  7.36849524],\n",
       "       [-0.85869783,  3.47746385,  3.43486493,  0.68537082,  0.87006071],\n",
       "       [-2.02107011,  8.02935924,  7.36849524,  0.87006071,  1.98503665]])"
      ]
     },
     "execution_count": 178,
     "metadata": {},
     "output_type": "execute_result"
    }
   ],
   "source": [
    "x=np.random.randn(5,5)\n",
    "mat=x.T.dot(x)\n",
    "inv(mat)"
   ]
  },
  {
   "cell_type": "code",
   "execution_count": 179,
   "metadata": {},
   "outputs": [
    {
     "data": {
      "text/plain": [
       "array([[ 1.00000000e+00,  2.41342109e-15, -1.46369696e-15,\n",
       "        -1.07213993e-16, -3.40539169e-16],\n",
       "       [ 4.34661955e-16,  1.00000000e+00,  1.23364800e-14,\n",
       "         8.02514953e-16,  7.05486963e-15],\n",
       "       [-6.39879859e-15,  1.25298589e-14,  1.00000000e+00,\n",
       "         2.04444834e-15, -2.10138692e-16],\n",
       "       [-2.96795897e-15,  1.62320781e-14,  2.26197046e-14,\n",
       "         1.00000000e+00,  8.65444666e-15],\n",
       "       [-1.25298267e-15, -2.41400475e-15,  1.17532270e-14,\n",
       "         1.63310706e-16,  1.00000000e+00]])"
      ]
     },
     "execution_count": 179,
     "metadata": {},
     "output_type": "execute_result"
    }
   ],
   "source": [
    "mat.dot(inv(mat))"
   ]
  },
  {
   "cell_type": "code",
   "execution_count": 181,
   "metadata": {},
   "outputs": [
    {
     "data": {
      "text/plain": [
       "array([[ 1.10631479, -0.04438825, -0.56430152, -2.20609322],\n",
       "       [-0.83552351,  0.44652867, -0.17487832, -1.00577862],\n",
       "       [-1.06935528, -0.29541243, -1.49144182, -0.94552418],\n",
       "       [-1.4479061 ,  0.99712086,  0.65829342,  0.09188943]])"
      ]
     },
     "execution_count": 181,
     "metadata": {},
     "output_type": "execute_result"
    }
   ],
   "source": [
    "samples=np.random.normal(size=(4,4))\n",
    "samples"
   ]
  },
  {
   "cell_type": "code",
   "execution_count": 184,
   "metadata": {},
   "outputs": [
    {
     "name": "stdout",
     "output_type": "stream",
     "text": [
      "299 ms ± 8.67 ms per loop (mean ± std. dev. of 7 runs, 1 loop each)\n"
     ]
    }
   ],
   "source": [
    "from random import normalvariate\n",
    "N=1000000\n",
    "%timeit samples=[normalvariate(0,1) for _ in range(N)]"
   ]
  },
  {
   "cell_type": "code",
   "execution_count": 185,
   "metadata": {},
   "outputs": [
    {
     "name": "stdout",
     "output_type": "stream",
     "text": [
      "13.6 ms ± 57.2 µs per loop (mean ± std. dev. of 7 runs, 100 loops each)\n"
     ]
    }
   ],
   "source": [
    "%timeit np.random.normal(size=N)"
   ]
  },
  {
   "cell_type": "code",
   "execution_count": 187,
   "metadata": {},
   "outputs": [
    {
     "data": {
      "text/plain": [
       "array([ 0.47143516, -1.19097569,  1.43270697, -0.3126519 , -0.72058873,\n",
       "        0.88716294,  0.85958841, -0.6365235 ,  0.01569637, -2.24268495])"
      ]
     },
     "execution_count": 187,
     "metadata": {},
     "output_type": "execute_result"
    }
   ],
   "source": [
    "np.random.seed(1234)\n",
    "rng=np.random.RandomState(1234)\n",
    "rng.randn(10)"
   ]
  },
  {
   "cell_type": "code",
   "execution_count": 189,
   "metadata": {},
   "outputs": [
    {
     "data": {
      "text/plain": [
       "array([[ 0.40545341,  0.28909194,  1.32115819, -1.54690555],\n",
       "       [-0.20264632, -0.65596934,  0.19342138,  0.55343891],\n",
       "       [ 1.31815155, -0.46930528,  0.67555409, -1.81702723],\n",
       "       [-0.18310854,  1.05896919, -0.39784023,  0.33743765]])"
      ]
     },
     "execution_count": 189,
     "metadata": {},
     "output_type": "execute_result"
    }
   ],
   "source": [
    "random1=np.random.normal(size=(4,4))\n",
    "random1"
   ]
  },
  {
   "cell_type": "code",
   "execution_count": 195,
   "metadata": {},
   "outputs": [
    {
     "data": {
      "text/plain": [
       "array([[ 1.03380073, -2.40045363,  2.03060362, -1.14263129],\n",
       "       [ 0.21188339,  0.70472062, -0.78543521,  0.46205974],\n",
       "       [ 0.70422823,  0.52350797, -0.92625431,  2.00784295],\n",
       "       [ 0.22696254, -1.15265911,  0.63197945,  0.03951269]])"
      ]
     },
     "execution_count": 195,
     "metadata": {},
     "output_type": "execute_result"
    }
   ],
   "source": [
    "random2=np.random.normal(size=(4,4))\n",
    "random2"
   ]
  },
  {
   "cell_type": "code",
   "execution_count": 196,
   "metadata": {},
   "outputs": [
    {
     "data": {
      "text/plain": [
       "array([3, 9, 5, 8, 2, 6, 1, 0, 4, 7])"
      ]
     },
     "execution_count": 196,
     "metadata": {},
     "output_type": "execute_result"
    }
   ],
   "source": [
    "arr=np.arange(10)\n",
    "np.random.shuffle(arr)\n",
    "\n",
    "arr"
   ]
  },
  {
   "cell_type": "code",
   "execution_count": 198,
   "metadata": {},
   "outputs": [
    {
     "data": {
      "text/plain": [
       "array([[ 0.94190292,  0.17946199,  0.25719867],\n",
       "       [-1.58672131,  0.7532313 , -0.43573276],\n",
       "       [-0.92157251, -0.57739511,  0.21321466],\n",
       "       [-0.15359776, -0.38658379,  1.0856801 ],\n",
       "       [ 0.27757754, -0.83465131, -0.54362438]])"
      ]
     },
     "execution_count": 198,
     "metadata": {},
     "output_type": "execute_result"
    }
   ],
   "source": [
    "arr=np.random.randn(5,3)\n",
    "arr"
   ]
  },
  {
   "cell_type": "code",
   "execution_count": 205,
   "metadata": {},
   "outputs": [
    {
     "data": {
      "image/png": "[encoded data removed]",
      "text/plain": [
       "<Figure size 640x480 with 1 Axes>"
      ]
     },
     "metadata": {},
     "output_type": "display_data"
    }
   ],
   "source": [
    "plot=np.random.randn(100000000)\n",
    "plt.hist(plot,bins=50)\n",
    "plt.show()"
   ]
  },
  {
   "cell_type": "code",
   "execution_count": 199,
   "metadata": {},
   "outputs": [
    {
     "data": {
      "text/plain": [
       "array([ 3,  9,  4,  4,  5,  1,  7,  8,  5,  3,  4,  6,  3,  5,  4,  8,  6,\n",
       "        4,  3,  6,  6,  6,  7,  6,  5,  4,  6,  8,  7,  9,  6,  5,  5,  7,\n",
       "        8,  5,  4,  4,  7,  4,  6,  4,  6,  6,  6,  5,  5,  7,  6,  5,  2,\n",
       "        4,  6,  5,  4,  6,  3,  3,  6,  3,  4,  5,  3,  6,  8,  8,  7,  6,\n",
       "        7,  6,  6,  2,  5,  4,  4,  3,  6,  5,  6,  6,  4,  5,  5,  5,  8,\n",
       "        4,  2,  7,  7,  4,  6,  4,  4,  4,  5,  3,  6,  6,  7,  4,  4,  4,\n",
       "        6,  7,  5,  1,  2,  3,  5,  3,  4,  3,  5,  2,  7,  4,  6,  5,  2,\n",
       "        5,  6,  4,  6,  5,  5,  6,  6,  4,  6,  7,  6,  6,  5,  7,  6,  4,\n",
       "        5,  5,  2,  5,  7,  8,  6,  3,  5,  2,  4,  5,  4,  5,  5,  7,  6,\n",
       "        7,  4,  4,  6,  7,  8,  6,  4,  5,  6,  6,  3,  4,  8,  5,  5,  5,\n",
       "        4,  3,  5,  9,  5,  6,  4,  3,  3,  3,  4,  5,  6,  7,  6,  7,  5,\n",
       "        6,  5,  7,  2,  6,  3,  3,  3,  2,  5,  5, 10,  3,  4,  9,  5,  7,\n",
       "        5,  8,  7,  6,  2,  8,  5,  4,  7,  4,  3,  6,  8,  5,  5,  2,  5,\n",
       "        8,  8,  7,  4,  5,  5,  4,  2,  7,  6,  3,  7,  6,  4,  6,  5,  2,\n",
       "        5,  5,  4,  7,  6,  5,  5,  5,  4,  5,  6,  4,  5,  3,  6,  7,  5,\n",
       "        9,  4,  2,  5,  7,  7,  5,  7,  4,  4,  6,  6,  2,  4,  5,  7,  4,\n",
       "        3,  5,  6,  4,  7,  7,  6,  4,  7,  7,  6,  7,  4,  5,  6,  8,  6,\n",
       "        7,  6,  2,  7,  4,  7,  5,  3,  8,  2,  6,  3,  3,  6,  8,  6,  6,\n",
       "        5,  3,  4,  6,  2,  5,  4,  6,  5,  5,  6,  7,  4,  6,  6,  4,  7,\n",
       "        5,  5,  4,  4,  4,  8,  4,  6,  5,  2,  5,  4,  3,  7,  2,  8,  4,\n",
       "        5,  3,  3,  5,  5,  3,  8,  4,  6,  5,  6,  4,  2,  5,  6,  3,  6,\n",
       "        4,  5,  4,  4,  7,  6,  3,  6,  7,  6,  5,  3,  2,  7,  3,  5,  7,\n",
       "        2,  6,  5,  3,  3,  2,  4,  3,  5,  2,  7,  7,  6,  4,  5,  7,  8,\n",
       "        3,  4,  6,  6,  6,  7,  6,  4,  3,  6,  4,  3,  6,  7,  2,  4,  5,\n",
       "        4,  2,  3,  5,  3,  6,  7,  3,  4,  5,  8,  6,  3,  7,  6,  5,  3,\n",
       "        2,  3,  7,  3,  4,  6,  5,  5,  4,  3,  5,  6,  6,  4,  7,  2,  7,\n",
       "        4,  3,  4,  7,  7,  4,  4,  5,  4,  2,  6,  5,  2,  6,  8,  6,  4,\n",
       "        4,  4,  5,  5,  5,  4,  7,  6,  3,  7,  2,  6,  3,  4,  4,  1,  5,\n",
       "        6,  6,  5,  5,  2,  5,  8,  4,  5,  7,  6,  4,  4,  8,  4,  4,  3,\n",
       "        5,  4,  5,  3,  5,  5,  6,  6,  4,  2,  4,  5,  1,  5,  7,  7,  4,\n",
       "        9,  1,  4,  6,  3,  5,  5,  7,  6,  4,  2,  6,  5,  7,  5,  7,  7,\n",
       "        5,  2,  3,  4,  5,  5,  5,  3,  7,  6,  4,  7,  3,  3,  5,  7,  3,\n",
       "        5,  3,  3,  3,  7,  5,  3,  6,  5,  5,  6,  4,  5,  4,  4,  4,  5,\n",
       "        6,  3,  4,  4,  6,  4,  5,  6,  3,  5,  6,  7,  4,  6,  6,  6,  6,\n",
       "        8,  4,  2,  4,  2,  6,  7,  7,  5,  5,  4,  3,  6,  3,  6,  7,  5,\n",
       "        7,  5,  4,  6,  5,  5,  5,  5,  8,  5,  7,  3,  1,  5,  5,  6,  6,\n",
       "        8,  5,  4,  6,  4,  5,  5,  5,  4,  5,  7,  6,  3,  5,  3, 10,  9,\n",
       "        6,  4,  5,  7,  4,  6,  5,  2,  3,  7,  7,  7,  4,  4,  6,  5,  8,\n",
       "        5,  3,  7,  6,  3,  7,  2,  7,  7,  7,  6,  4,  5,  4,  7,  4,  4,\n",
       "        6,  4,  5,  4,  7,  6,  5,  4,  7,  3,  4,  4,  5,  6,  8,  4,  6,\n",
       "        3,  4,  8,  3,  4,  6,  8,  3,  5,  5,  7,  3,  4,  2,  4,  4,  1,\n",
       "        3,  3,  6,  4,  7,  4,  7,  4,  5,  5,  5,  5,  5,  4,  5,  5,  5,\n",
       "        6,  7,  5,  5,  4,  7,  4,  5,  6,  6,  5,  3,  6,  5,  6,  5,  5,\n",
       "        7,  9,  5,  6,  2,  7,  9,  4,  7,  5,  5,  5,  6,  4,  5,  7,  6,\n",
       "        4,  3,  5,  7,  6,  5,  5,  2,  9,  5,  6,  7,  4,  6,  7,  6,  5,\n",
       "        7,  5,  4,  6,  6,  5,  1,  8,  5,  1,  5,  5,  4,  5,  5,  5,  7,\n",
       "        7,  6,  5,  5,  6,  5,  6,  8,  6,  5,  3,  5,  4,  3,  6,  3,  3,\n",
       "        6,  5,  5,  4,  2,  4,  4,  2,  6,  4,  7,  6,  8,  8,  5,  4,  7,\n",
       "        2,  4,  4,  5,  7,  5,  4,  5,  7,  3,  8,  3,  6,  6,  5,  4,  6,\n",
       "        7,  5,  5,  2,  3,  6,  5,  4,  4,  6,  9,  5,  7,  3,  7,  6,  5,\n",
       "        7,  4,  5,  2,  5,  4,  3,  2,  4,  4,  9,  7,  3,  5,  5,  5,  7,\n",
       "        5,  6,  7,  6,  5,  3,  5,  4,  4,  4,  4,  7,  5,  4,  6,  2,  3,\n",
       "        2,  5,  5,  4,  5,  6,  7,  5,  8,  5,  1,  5,  5,  3,  6,  3,  5,\n",
       "        8,  3,  3,  3,  3,  6,  6,  6,  3,  8,  7,  6,  7,  5,  5,  6,  4,\n",
       "        6,  5,  6,  4,  6,  5,  5,  7,  3,  3,  5,  5,  7,  4,  3,  8,  7,\n",
       "        2,  3,  7,  3,  5,  5,  4,  3,  7,  7,  6,  6,  5,  8,  6,  5,  4,\n",
       "        3,  8,  4,  4,  4,  6,  7,  5,  6,  4,  3,  6,  5,  2,  5,  5,  4,\n",
       "        1,  5,  5,  3,  6,  4,  1,  4,  3,  6,  6,  4,  3,  5,  6,  6,  4,\n",
       "        6,  8,  5,  5,  2,  5,  6,  3,  6,  2,  5,  7,  5,  3])"
      ]
     },
     "execution_count": 199,
     "metadata": {},
     "output_type": "execute_result"
    }
   ],
   "source": [
    "arr=np.random.binomial(10,0.5,1000)\n",
    "arr"
   ]
  },
  {
   "cell_type": "code",
   "execution_count": 202,
   "metadata": {},
   "outputs": [
    {
     "data": {
      "image/png": "[encoded data removed]",
      "text/plain": [
       "<Figure size 640x480 with 1 Axes>"
      ]
     },
     "metadata": {},
     "output_type": "display_data"
    }
   ],
   "source": [
    "plot=plt.hist(arr,bins=10)\n",
    "plt.show()"
   ]
  },
  {
   "cell_type": "code",
   "execution_count": 200,
   "metadata": {},
   "outputs": [
    {
     "data": {
      "text/plain": [
       "array([0.94116245, 0.98875814, 0.99632662, 0.98048578, 0.98705625,\n",
       "       0.97263212, 0.9741199 , 0.99069242, 0.82062897, 0.99768102,\n",
       "       0.99993454, 0.97862558, 0.92583605, 0.9341956 , 0.98922788,\n",
       "       0.97007295, 0.99883109, 0.98570163, 0.99424607, 0.98312614,\n",
       "       0.98253021, 0.98954808, 0.80731398, 0.99918316, 0.99844   ,\n",
       "       0.92168986, 0.99204388, 0.96799881, 0.98234888, 0.9618994 ,\n",
       "       0.99610209, 0.84164078, 0.86425372, 0.97345568, 0.99928697,\n",
       "       0.9472054 , 0.99411123, 0.92741255, 0.75245331, 0.99987023,\n",
       "       0.90538926, 0.99975613, 0.98001206, 0.99708561, 0.87810857,\n",
       "       0.992276  , 0.99982744, 0.98984392, 0.92716717, 0.98893628,\n",
       "       0.99688796, 0.99672481, 0.88048062, 0.99231834, 0.95582521,\n",
       "       0.99647575, 0.99196331, 0.79128041, 0.95803188, 0.94329683,\n",
       "       0.99756265, 0.99006355, 0.90076346, 0.97513151, 0.99698356,\n",
       "       0.82023966, 0.99260398, 0.94525792, 0.95204444, 0.97664267,\n",
       "       0.95016616, 0.97026946, 0.8941353 , 0.71399623, 0.98122917,\n",
       "       0.94672269, 0.99352172, 0.97756494, 0.93902685, 0.99996431,\n",
       "       0.9972546 , 0.99516148, 0.99701407, 0.99998235, 0.97071973,\n",
       "       0.99385095, 0.9994267 , 0.8801836 , 0.99831092, 0.99973057,\n",
       "       0.99820772, 0.98014027, 0.99867455, 0.98472447, 0.98351457,\n",
       "       0.98887965, 0.98198581, 0.99999775, 0.95131844, 0.9990588 ,\n",
       "       0.83684194, 0.99658622, 0.86768325, 0.99896075, 0.91347711,\n",
       "       0.99726093, 0.92259201, 0.92136427, 0.99830078, 0.98951915,\n",
       "       0.8524035 , 0.98738583, 0.99089314, 0.88403854, 0.99934744,\n",
       "       0.97271441, 0.82530127, 0.99989366, 0.99490183, 0.92580683,\n",
       "       0.98910676, 0.85193076, 0.95661526, 0.97264118, 0.99003577,\n",
       "       0.99999226, 0.96857267, 0.93651291, 0.99948496, 0.99938437,\n",
       "       0.96140399, 0.96612783, 0.86094478, 0.9988432 , 0.94988581,\n",
       "       0.99973842, 0.93681522, 0.9825306 , 0.9991512 , 0.946211  ,\n",
       "       0.99344591, 0.99999964, 0.99563098, 0.99995271, 0.96300407,\n",
       "       0.96697941, 0.99988122, 0.95564619, 0.86063489, 0.99685337,\n",
       "       0.87510508, 0.97814791, 0.88944867, 0.64596654, 0.89895682,\n",
       "       0.99865649, 0.99916904, 0.99608183, 0.99949845, 0.99476992,\n",
       "       0.96137992, 0.9612081 , 0.99594949, 0.89380685, 0.99893954,\n",
       "       0.9898863 , 0.87997354, 0.96537442, 0.91685796, 0.99973709,\n",
       "       0.86625965, 0.99878275, 0.91480401, 0.99748375, 0.99289886,\n",
       "       0.98313582, 0.95807839, 0.9743685 , 0.98270813, 0.72026568,\n",
       "       0.83229758, 0.84440089, 0.93958953, 0.87951924, 0.99902273,\n",
       "       0.98818202, 0.94082185, 0.73426248, 0.87444923, 0.96845518,\n",
       "       0.99987699, 0.8428766 , 0.99753118, 0.98102661, 0.89508758,\n",
       "       0.99959381, 0.91135796, 0.99082621, 0.9603126 , 0.96947839,\n",
       "       0.99505117, 0.95803347, 0.97308902, 0.97192913, 0.77273856,\n",
       "       0.9801373 , 0.9684276 , 0.99495737, 0.9975963 , 0.91617167,\n",
       "       0.94610915, 0.99379435, 0.97747958, 0.97083647, 0.95573624,\n",
       "       0.97658754, 0.97453946, 0.96464507, 0.82734236, 0.99367192,\n",
       "       0.63558793, 0.95222798, 0.99999777, 0.99882955, 0.99973496,\n",
       "       0.95976601, 0.89775251, 0.99539624, 0.98718024, 0.91215466,\n",
       "       0.97833907, 0.99938828, 0.99999134, 0.9812865 , 0.96058274,\n",
       "       0.79407633, 0.94833052, 0.99590938, 0.89158009, 0.93833146,\n",
       "       0.99137772, 0.99637533, 0.99884797, 0.79129123, 0.76700798,\n",
       "       0.9220643 , 0.91384575, 0.98743927, 0.99353903, 0.93064807,\n",
       "       0.99979799, 0.98414612, 0.73962551, 0.87673691, 0.86517838,\n",
       "       0.99986704, 0.82586968, 0.99451055, 0.9891097 , 0.85825505,\n",
       "       0.93913602, 0.99915417, 0.94457709, 0.95079572, 0.99494877,\n",
       "       0.97267484, 0.96669193, 0.99995473, 0.93132382, 0.96387341,\n",
       "       0.97890153, 0.94545036, 0.90035459, 0.94315363, 0.99924396,\n",
       "       0.99431073, 0.93816521, 0.99296292, 0.94288781, 0.99202624,\n",
       "       0.83365557, 0.99419358, 0.96809546, 0.98605926, 0.99995491,\n",
       "       0.96608553, 0.96739843, 0.99994574, 0.96143411, 0.91958825,\n",
       "       0.99603068, 0.98004756, 0.85872551, 0.9431633 , 0.99969508,\n",
       "       0.99222723, 0.99982028, 0.91874346, 0.99954403, 0.98811524,\n",
       "       0.86565297, 0.94702267, 0.95123993, 0.91745162, 0.94843081,\n",
       "       0.81516814, 0.98205725, 0.98113706, 0.99985338, 0.99996534,\n",
       "       0.99798739, 0.99937912, 0.94009413, 0.95465119, 0.81771165,\n",
       "       0.8657772 , 0.87998326, 0.90044301, 0.99785818, 0.94051193,\n",
       "       0.97676659, 0.86179251, 0.80785275, 0.99565828, 0.99374987,\n",
       "       0.95752776, 0.91625934, 0.95411591, 0.99404825, 0.95818532,\n",
       "       0.94997716, 0.99842077, 0.89343154, 0.85204217, 0.94637723,\n",
       "       0.91712131, 0.98029738, 0.98380568, 0.94221819, 0.98447901,\n",
       "       0.99988101, 0.99858537, 0.94258291, 0.99049056, 0.81416303,\n",
       "       0.96731318, 0.89296037, 0.9826675 , 0.99152729, 0.95767797,\n",
       "       0.98775154, 0.97091936, 0.95867056, 0.94488831, 0.914482  ,\n",
       "       0.96208652, 0.86791945, 0.99728741, 0.89537923, 0.95572953,\n",
       "       0.96556219, 0.88852623, 0.9992022 , 0.99875403, 0.90497811,\n",
       "       0.90659278, 0.97715585, 0.95851042, 0.99780503, 0.94893451,\n",
       "       0.83108605, 0.96944395, 0.99999091, 0.99898126, 0.92677493,\n",
       "       0.9993314 , 0.96780771, 0.88274263, 0.99125025, 0.98564761,\n",
       "       0.94990833, 0.99308198, 0.99632959, 0.99586963, 0.92279575,\n",
       "       0.7754632 , 0.99912261, 0.99966904, 0.86791311, 0.95800621,\n",
       "       0.99639014, 0.99369684, 0.97129342, 0.9264033 , 0.98882754,\n",
       "       0.97913504, 0.89400658, 0.93286776, 0.99975576, 0.97773897,\n",
       "       0.91463825, 0.95431625, 0.98964113, 0.98787676, 0.71724051,\n",
       "       0.99793687, 0.90209586, 0.98591641, 0.97579532, 0.91281933,\n",
       "       0.97217175, 0.91368756, 0.96691193, 0.96861926, 0.91758604,\n",
       "       0.95510021, 0.89717447, 0.99948823, 0.99971674, 0.98939658,\n",
       "       0.97760978, 0.99145554, 0.97657345, 0.98424568, 0.90218429,\n",
       "       0.99947342, 0.99207462, 0.98411626, 0.9842314 , 0.97509643,\n",
       "       0.83691954, 0.94286272, 0.83407387, 0.99334597, 0.9291572 ,\n",
       "       0.96062077, 0.96934114, 0.99935075, 0.92824725, 0.86968069,\n",
       "       0.98043959, 0.95141066, 0.92377842, 0.98893757, 0.96247616,\n",
       "       0.91118429, 0.96504339, 0.99554737, 0.99958037, 0.99999825,\n",
       "       0.99271399, 0.96773758, 0.99942596, 0.9919453 , 0.99281036,\n",
       "       0.99569521, 0.88011212, 0.97444155, 0.99871588, 0.9528941 ,\n",
       "       0.90322585, 0.94283859, 0.99974627, 0.95559377, 0.91443438,\n",
       "       0.99871723, 0.97217784, 0.98685477, 0.97963748, 0.90913482,\n",
       "       0.95824028, 0.98185829, 0.98664347, 0.97808882, 0.99822053,\n",
       "       0.94665371, 0.99995093, 0.9795705 , 0.99430132, 0.97799696,\n",
       "       0.99637085, 0.92505607, 0.9647733 , 0.99686637, 0.99937968,\n",
       "       0.92585223, 0.93981245, 0.99993863, 0.99970052, 0.9913641 ,\n",
       "       0.98754101, 0.9584068 , 0.99089819, 0.71038965, 0.99474131,\n",
       "       0.94238254, 0.94052134, 0.99929271, 0.75406525, 0.89785556,\n",
       "       0.9977762 , 0.97898047, 0.93108005, 0.9569564 , 0.97343523,\n",
       "       0.72324637, 0.98653785, 0.9955228 , 0.9999126 , 0.99350117,\n",
       "       0.99239847, 0.99065408, 0.99732325, 0.90400415, 0.98647717,\n",
       "       0.99733802, 0.99817273, 0.95869237, 0.99999623, 0.9983355 ,\n",
       "       0.94108339, 0.98122573, 0.99608846, 0.96567913, 0.9943112 ,\n",
       "       0.79185922, 0.97688128, 0.96417734, 0.95462821, 0.92581617,\n",
       "       0.96181235, 0.95820231, 0.99493095, 0.92537194, 0.85928786,\n",
       "       0.99278016, 0.97396934, 0.85021593, 0.83890542, 0.97381097,\n",
       "       0.95475723, 0.917231  , 0.89753387, 0.99793612, 0.91530344,\n",
       "       0.9992393 , 0.99825462, 0.92487612, 0.99914922, 0.97030331,\n",
       "       0.9090756 , 0.99983927, 0.93493815, 0.97977669, 0.99157901,\n",
       "       0.99650369, 0.99846843, 0.95352334, 0.93940013, 0.98085274,\n",
       "       0.99940778, 0.99663355, 0.99745637, 0.9843109 , 0.99902213,\n",
       "       0.98876848, 0.96100043, 0.99937549, 0.93570526, 0.93377821,\n",
       "       0.71420361, 0.86030632, 0.95995711, 0.79582119, 0.84235694,\n",
       "       0.9896565 , 0.99996171, 0.89448958, 0.8364464 , 0.96078445,\n",
       "       0.98982437, 0.92821693, 0.94822274, 0.98593662, 0.95730772,\n",
       "       0.9744433 , 0.98615174, 0.99999513, 0.98309833, 0.98003627,\n",
       "       0.91971606, 0.99906664, 0.9993006 , 0.91076087, 0.99019143,\n",
       "       0.94673925, 0.9382168 , 0.95421242, 0.99998178, 0.98571352,\n",
       "       0.9999785 , 0.99432359, 0.9995025 , 0.94428766, 0.99890747,\n",
       "       0.99912728, 0.99080742, 0.82922303, 0.91619308, 0.99466596,\n",
       "       0.86647966, 0.99820028, 0.94593226, 0.97231788, 0.99832531,\n",
       "       0.96996128, 0.96411401, 0.99275453, 0.96155729, 0.9938029 ,\n",
       "       0.98874488, 0.99930292, 0.97985278, 0.89654814, 0.91704278,\n",
       "       0.99999822, 0.96997791, 0.91067922, 0.96671665, 0.99986609,\n",
       "       0.99038542, 0.98504483, 0.97108622, 0.96281084, 0.99804532,\n",
       "       0.95364884, 0.95403124, 0.998803  , 0.99995979, 0.99300939,\n",
       "       0.99502921, 0.97132455, 0.98124481, 0.99065382, 0.97866791,\n",
       "       0.84930088, 0.95958469, 0.99898762, 0.92724768, 0.97471473,\n",
       "       0.75902801, 0.97622174, 0.88529383, 0.78133073, 0.99866725,\n",
       "       0.90128084, 0.99821571, 0.9970894 , 0.99536152, 0.98040035,\n",
       "       0.99564984, 0.98900218, 0.8946051 , 0.88755363, 0.96301496,\n",
       "       0.98802242, 0.99999316, 0.99833614, 0.98998922, 0.98970393,\n",
       "       0.99022288, 0.88461428, 0.99741114, 0.99744351, 0.98123894,\n",
       "       0.97134144, 0.93344162, 0.86269452, 0.99499266, 0.85029707,\n",
       "       0.99848902, 0.89307944, 0.96403474, 0.97724801, 0.98893524,\n",
       "       0.80371627, 0.96895595, 0.9908332 , 0.9961021 , 0.98508001,\n",
       "       0.99960657, 0.99957642, 0.98250627, 0.9994697 , 0.69109891,\n",
       "       0.97562001, 0.92072994, 0.98127889, 0.98066265, 0.99975606,\n",
       "       0.95596212, 0.98853971, 0.98765091, 0.985971  , 0.99555761,\n",
       "       0.8594947 , 0.98504243, 0.93105365, 0.9999004 , 0.98170581,\n",
       "       0.97029005, 0.99980027, 0.99640543, 0.9783144 , 0.99077645,\n",
       "       0.90516521, 0.99247623, 0.99775452, 0.97401246, 0.98967017,\n",
       "       0.99999529, 0.97507252, 0.94504865, 0.99249401, 0.9551508 ,\n",
       "       0.99746267, 0.83914946, 0.97373865, 0.99936112, 0.99957864,\n",
       "       0.93892981, 0.97378141, 0.94740553, 0.91946105, 0.99291663,\n",
       "       0.99036133, 0.99206911, 0.99998872, 0.9481905 , 0.99631001,\n",
       "       0.93544718, 0.99485792, 0.9570174 , 0.93508073, 0.92729477,\n",
       "       0.99751306, 0.99698837, 0.96302231, 0.96435349, 0.84382197,\n",
       "       0.94958127, 0.98053985, 0.96861226, 0.96976418, 0.94167257,\n",
       "       0.98613678, 0.9008407 , 0.9818794 , 0.76835509, 0.84342053,\n",
       "       0.92035996, 0.99414653, 0.99645119, 0.96309811, 0.94387583,\n",
       "       0.99759099, 0.99935411, 0.78753444, 0.98929122, 0.99894168,\n",
       "       0.93769514, 0.97947174, 0.97597024, 0.99983374, 0.8624559 ,\n",
       "       0.99607221, 0.99977968, 0.99116101, 0.97910269, 0.99707446,\n",
       "       0.99004233, 0.87208094, 0.99535976, 0.99985694, 0.98110504,\n",
       "       0.99979332, 0.99999094, 0.98451459, 0.99465539, 0.91066668,\n",
       "       0.910351  , 0.98703599, 0.99981008, 0.93187705, 0.9966747 ,\n",
       "       0.95592875, 0.97869593, 0.8425762 , 0.98767937, 0.99942607,\n",
       "       0.91022745, 0.8017124 , 0.99895665, 0.9307228 , 0.99571313,\n",
       "       0.97915667, 0.95363409, 0.99996886, 0.99540545, 0.9477298 ,\n",
       "       0.99816268, 0.9683499 , 0.88145412, 0.9923721 , 0.99558921,\n",
       "       0.75041448, 0.98544035, 0.99999929, 0.94922474, 0.97246184,\n",
       "       0.97030135, 0.82843269, 0.99388957, 0.9833818 , 0.99798838,\n",
       "       0.99528161, 0.99361257, 0.97681018, 0.99997906, 0.94813631,\n",
       "       0.99456075, 0.96424053, 0.98818147, 0.92083438, 0.94737157,\n",
       "       0.90919496, 0.95907334, 0.63551097, 0.81425938, 0.98977095,\n",
       "       0.96535102, 0.89990126, 0.97174082, 0.91864118, 0.94997024,\n",
       "       0.98290308, 0.97094169, 0.98993582, 0.97786197, 0.98415826,\n",
       "       0.98151331, 0.98819289, 0.87580451, 0.95436948, 0.95494377,\n",
       "       0.98096093, 0.99900439, 0.99061093, 0.998545  , 0.99403828,\n",
       "       0.99850708, 0.97921273, 0.96600941, 0.97245737, 0.99905447,\n",
       "       0.83294644, 0.97724864, 0.95311881, 0.99759728, 0.98671453,\n",
       "       0.99993179, 0.94918152, 0.96145723, 0.98608484, 0.9402682 ,\n",
       "       0.89271573, 0.89065496, 0.99755191, 0.95056754, 0.97929632,\n",
       "       0.96254025, 0.97055005, 0.975239  , 0.99244114, 0.99392296,\n",
       "       0.99865983, 0.99835564, 0.99993998, 0.88137658, 0.99931171,\n",
       "       0.9779951 , 0.97036494, 0.94801793, 0.89696624, 0.99691037,\n",
       "       0.66770723, 0.98838604, 0.80189637, 0.83791671, 0.9899998 ,\n",
       "       0.96665258, 0.99871122, 0.98424456, 0.93024184, 0.80773471,\n",
       "       0.94978585, 0.96534752, 0.98834278, 0.99749444, 0.98380108,\n",
       "       0.68290779, 0.90913098, 0.92777474, 0.99326737, 0.97988121,\n",
       "       0.97245584, 0.9967973 , 0.98963826, 0.99735017, 0.92645731,\n",
       "       0.99923731, 0.99449624, 0.9877396 , 0.87777293, 0.96397932,\n",
       "       0.99217002, 0.90301277, 0.97793589, 0.99242541, 0.9996788 ,\n",
       "       0.99179711, 0.99126082, 0.97523392, 0.99431345, 0.99960369,\n",
       "       0.97240716, 0.99563667, 0.93978858, 0.9228305 , 0.84260272,\n",
       "       0.99281344, 0.99112315, 0.99991341, 0.94320777, 0.99727448,\n",
       "       0.99959814, 0.99999646, 0.97526739, 0.99657671, 0.93191031,\n",
       "       0.90533829, 0.97058401, 0.92311323, 0.98212689, 0.95845152,\n",
       "       0.96389268, 0.98360333, 0.84016576, 0.99814237, 0.81655242,\n",
       "       0.99332941, 0.84042707, 0.99909091, 0.99972443, 0.93658604,\n",
       "       0.93443993, 0.95059599, 0.97088681, 0.9957102 , 0.99414637,\n",
       "       0.99769981, 0.95166991, 0.84389698, 0.93754795, 0.97344155,\n",
       "       0.97758385, 0.91612667, 0.97587107, 0.94548435, 0.93706943,\n",
       "       0.99716388, 0.99158499, 0.77229884, 0.98963367, 0.98423463,\n",
       "       0.95538218, 0.93575523, 0.90524554, 0.999984  , 0.86957429,\n",
       "       0.88177755, 0.97172668, 0.94694084, 0.99613943, 0.84808221,\n",
       "       0.86340026, 0.99431839, 0.92266486, 0.9844522 , 0.96357265])"
      ]
     },
     "execution_count": 200,
     "metadata": {},
     "output_type": "execute_result"
    }
   ],
   "source": [
    "arr=np.random.beta(10,0.5,1000)\n",
    "arr"
   ]
  },
  {
   "cell_type": "code",
   "execution_count": 201,
   "metadata": {},
   "outputs": [
    {
     "data": {
      "image/png": "[encoded data removed]",
      "text/plain": [
       "<Figure size 640x480 with 1 Axes>"
      ]
     },
     "metadata": {},
     "output_type": "display_data"
    }
   ],
   "source": [
    "plot=plt.hist(arr,bins=100)\n",
    "plt.show()"
   ]
  },
  {
   "cell_type": "code",
   "execution_count": 206,
   "metadata": {},
   "outputs": [
    {
     "data": {
      "image/png": "[encoded data removed]",
      "text/plain": [
       "<Figure size 640x480 with 1 Axes>"
      ]
     },
     "metadata": {},
     "output_type": "display_data"
    }
   ],
   "source": [
    "arr=np.random.gamma(10,0.5,1000)\n",
    "plot=plt.hist(arr,bins=100)\n",
    "plt.show()"
   ]
  },
  {
   "cell_type": "code",
   "execution_count": 211,
   "metadata": {},
   "outputs": [
    {
     "data": {
      "image/png": "[encoded data removed]",
      "text/plain": [
       "<Figure size 640x480 with 1 Axes>"
      ]
     },
     "metadata": {},
     "output_type": "display_data"
    }
   ],
   "source": [
    "arr=np.random.poisson(10,1000)\n",
    "plot=plt.hist(arr,bins=100)\n",
    "plt.show()"
   ]
  },
  {
   "cell_type": "code",
   "execution_count": 212,
   "metadata": {},
   "outputs": [
    {
     "data": {
      "image/png": "[encoded data removed]",
      "text/plain": [
       "<Figure size 640x480 with 1 Axes>"
      ]
     },
     "metadata": {},
     "output_type": "display_data"
    }
   ],
   "source": [
    "arr=np.random.uniform(0,10,1000)\n",
    "plot=plt.hist(arr,bins=100)\n",
    "plt.show()"
   ]
  },
  {
   "cell_type": "code",
   "execution_count": 217,
   "metadata": {},
   "outputs": [
    {
     "data": {
      "text/plain": [
       "[<matplotlib.lines.Line2D at 0x1271e52d0>]"
      ]
     },
     "execution_count": 217,
     "metadata": {},
     "output_type": "execute_result"
    },
    {
     "data": {
      "image/png": "[encoded data removed]",
      "text/plain": [
       "<Figure size 640x480 with 1 Axes>"
      ]
     },
     "metadata": {},
     "output_type": "display_data"
    }
   ],
   "source": [
    "import random\n",
    "position=0\n",
    "walk=[position]\n",
    "steps=1000\n",
    "for i in range(steps):\n",
    "    step=1 if random.randint(0,1) else -1\n",
    "    position+=step\n",
    "    walk.append(position)\n",
    "plt.plot(walk[:1000])"
   ]
  },
  {
   "cell_type": "code",
   "execution_count": 235,
   "metadata": {},
   "outputs": [
    {
     "data": {
      "text/plain": [
       "[<matplotlib.lines.Line2D at 0x159422b00>]"
      ]
     },
     "execution_count": 235,
     "metadata": {},
     "output_type": "execute_result"
    },
    {
     "data": {
      "image/png": "[encoded data removed]",
      "text/plain": [
       "<Figure size 640x480 with 1 Axes>"
      ]
     },
     "metadata": {},
     "output_type": "display_data"
    }
   ],
   "source": [
    "nwalks=5000\n",
    "nsteps=1000\n",
    "draws=np.random.randint(0,2,size=(nwalks,nsteps))\n",
    "steps=np.where(draws>0,1,-1)\n",
    "walk=steps.cumsum()\n",
    "plt.plot(walk[:1000])"
   ]
  },
  {
   "cell_type": "code",
   "execution_count": 236,
   "metadata": {},
   "outputs": [
    {
     "data": {
      "text/plain": [
       "-4148"
      ]
     },
     "execution_count": 236,
     "metadata": {},
     "output_type": "execute_result"
    }
   ],
   "source": [
    "walk.min()"
   ]
  },
  {
   "cell_type": "code",
   "execution_count": 237,
   "metadata": {},
   "outputs": [
    {
     "data": {
      "text/plain": [
       "248"
      ]
     },
     "execution_count": 237,
     "metadata": {},
     "output_type": "execute_result"
    }
   ],
   "source": [
    "walk.max()"
   ]
  },
  {
   "cell_type": "code",
   "execution_count": 240,
   "metadata": {},
   "outputs": [
    {
     "data": {
      "text/plain": [
       "True"
      ]
     },
     "execution_count": 240,
     "metadata": {},
     "output_type": "execute_result"
    }
   ],
   "source": [
    "hits30=(np.abs(walk)>=30).any(0)\n",
    "hits30"
   ]
  },
  {
   "cell_type": "code",
   "execution_count": 228,
   "metadata": {},
   "outputs": [
    {
     "data": {
      "text/plain": [
       "541"
      ]
     },
     "execution_count": 228,
     "metadata": {},
     "output_type": "execute_result"
    }
   ],
   "source": [
    "hits30.sum()"
   ]
  },
  {
   "cell_type": "code",
   "execution_count": 241,
   "metadata": {},
   "outputs": [
    {
     "data": {
      "text/plain": [
       "2317.0"
      ]
     },
     "execution_count": 241,
     "metadata": {},
     "output_type": "execute_result"
    }
   ],
   "source": [
    "crossing_times=(np.abs(walk)>=30).argmax()\n",
    "crossing_times.mean()"
   ]
  },
  {
   "cell_type": "code",
   "execution_count": 242,
   "metadata": {},
   "outputs": [
    {
     "data": {
      "text/plain": [
       "array([[ 0.2088477 ,  0.11076878,  0.21041234, ...,  0.45317933,\n",
       "        -0.18886147,  0.01209874],\n",
       "       [-0.13075384, -0.00734052, -0.07177985, ..., -0.0322913 ,\n",
       "         0.17997   ,  0.28253011],\n",
       "       [ 0.18980646,  0.07218884,  0.10434216, ..., -0.20874675,\n",
       "        -0.14836199,  0.2414408 ],\n",
       "       ...,\n",
       "       [-0.06784987,  0.10463099,  0.13853172, ..., -0.0376442 ,\n",
       "        -0.35668847,  0.07407496],\n",
       "       [ 0.25616307, -0.74847316,  0.36304161, ...,  0.06454322,\n",
       "        -0.17548252, -0.09770596],\n",
       "       [ 0.14771719, -0.20628119, -0.02429758, ..., -0.46836326,\n",
       "         0.74230252,  0.05133672]])"
      ]
     },
     "execution_count": 242,
     "metadata": {},
     "output_type": "execute_result"
    }
   ],
   "source": [
    "steps=np.random.normal(loc=0,scale=0.25,size=(nwalks,nsteps))\n",
    "steps"
   ]
  },
  {
   "cell_type": "code",
   "execution_count": 243,
   "metadata": {},
   "outputs": [
    {
     "name": "stdout",
     "output_type": "stream",
     "text": [
      "/Users/mba/Documents/learn/python_data_analysis/~/Documents/learn\n"
     ]
    }
   ],
   "source": [
    "!pwd"
   ]
  }
 ],
 "metadata": {
  "kernelspec": {
   "display_name": "Python 3",
   "language": "python",
   "name": "python3"
  },
  "language_info": {
   "codemirror_mode": {
    "name": "ipython",
    "version": 3
   },
   "file_extension": ".py",
   "mimetype": "text/x-python",
   "name": "python",
   "nbconvert_exporter": "python",
   "pygments_lexer": "ipython3",
   "version": "3.10.9"
  },
  "orig_nbformat": 4
 },
 "nbformat": 4,
 "nbformat_minor": 2
}
